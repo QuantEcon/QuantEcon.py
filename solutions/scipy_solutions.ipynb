{
 "metadata": {
  "name": "",
  "signature": "sha256:da5a4e2755161c4b9d309d2697cd1a0f4c41ef40220265dd07daac825891c8ff"
 },
 "nbformat": 3,
 "nbformat_minor": 0,
 "worksheets": [
  {
   "cells": [
    {
     "cell_type": "heading",
     "level": 1,
     "metadata": {},
     "source": [
      "quant-econ Solutions: SciPy"
     ]
    },
    {
     "cell_type": "markdown",
     "metadata": {},
     "source": [
      "Solutions for http://quant-econ.net/scipy.html"
     ]
    },
    {
     "cell_type": "heading",
     "level": 2,
     "metadata": {},
     "source": [
      "Exercise 1"
     ]
    },
    {
     "cell_type": "markdown",
     "metadata": {},
     "source": [
      "Here's a reasonable solution:"
     ]
    },
    {
     "cell_type": "code",
     "collapsed": false,
     "input": [
      "def bisect(f, a, b, tol=10e-5):\n",
      "    \"\"\"\n",
      "    Implements the bisection root finding algorithm, assuming that f is a\n",
      "    real-valued function on [a, b] satisfying f(a) < 0 < f(b).\n",
      "    \"\"\"\n",
      "    lower, upper = a, b\n",
      "    if upper - lower < tol:\n",
      "        return 0.5 * (upper + lower)\n",
      "    else:\n",
      "        middle = 0.5 * (upper + lower)\n",
      "        print('Current mid point = {}'.format(middle))\n",
      "        if f(middle) > 0:   # Implies root is between lower and middle\n",
      "            bisect(f, lower, middle)\n",
      "        else:               # Implies root is between middle and upper\n",
      "            bisect(f, middle, upper)\n"
     ],
     "language": "python",
     "metadata": {},
     "outputs": [],
     "prompt_number": 1
    },
    {
     "cell_type": "markdown",
     "metadata": {},
     "source": [
      "We can test it as follows"
     ]
    },
    {
     "cell_type": "code",
     "collapsed": false,
     "input": [
      "import numpy as np\n",
      "f = lambda x: np.sin(4 * (x - 0.25)) + x + x**20 - 1\n",
      "\n",
      "bisect(f, 0, 1)"
     ],
     "language": "python",
     "metadata": {},
     "outputs": [
      {
       "output_type": "stream",
       "stream": "stdout",
       "text": [
        "Current mid point = 0.5\n",
        "Current mid point = 0.25\n",
        "Current mid point = 0.375\n",
        "Current mid point = 0.4375\n",
        "Current mid point = 0.40625\n",
        "Current mid point = 0.421875\n",
        "Current mid point = 0.4140625\n",
        "Current mid point = 0.41015625\n",
        "Current mid point = 0.408203125\n",
        "Current mid point = 0.4091796875\n",
        "Current mid point = 0.40869140625\n",
        "Current mid point = 0.408447265625\n",
        "Current mid point = 0.4083251953125\n",
        "Current mid point = 0.40826416015625\n"
       ]
      }
     ],
     "prompt_number": 2
    }
   ],
   "metadata": {}
  }
 ]
}