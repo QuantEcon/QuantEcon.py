{
 "cells": [
  {
   "cell_type": "markdown",
   "metadata": {},
   "source": [
    "# quant-econ Solutions: Markov Perfect Equilibria"
   ]
  },
  {
   "cell_type": "markdown",
   "metadata": {},
   "source": [
    "Solutions for http://quant-econ.net/py/markov_perf.html"
   ]
  },
  {
   "cell_type": "markdown",
   "metadata": {},
   "source": [
    "We begin with some standard imports"
   ]
  },
  {
   "cell_type": "code",
   "execution_count": 1,
   "metadata": {
    "collapsed": false
   },
   "outputs": [],
   "source": [
    "import numpy as np\n",
    "import quantecon as qe\n",
    "import matplotlib.pyplot as plt\n",
    "from numpy import dot"
   ]
  },
  {
   "cell_type": "code",
   "execution_count": 2,
   "metadata": {
    "collapsed": false
   },
   "outputs": [],
   "source": [
    "%matplotlib inline"
   ]
  },
  {
   "cell_type": "markdown",
   "metadata": {},
   "source": [
    "### Exercise 1"
   ]
  },
  {
   "cell_type": "markdown",
   "metadata": {},
   "source": [
    "First let's compute the duopoly MPE under the stated parameters \n"
   ]
  },
  {
   "cell_type": "code",
   "execution_count": 3,
   "metadata": {
    "collapsed": false
   },
   "outputs": [],
   "source": [
    "# == Parameters == #\n",
    "a0    = 10.0\n",
    "a1    = 2.0\n",
    "beta  = 0.96\n",
    "gamma = 12.0\n",
    "\n",
    "# == In LQ form == #\n",
    "\n",
    "A  = np.eye(3)\n",
    "\n",
    "B1 = np.array([[0.], [1.], [0.]])\n",
    "B2 = np.array([[0.], [0.], [1.]])\n",
    "\n",
    "\n",
    "R1 = [[0.,    -a0/2,  0.],\n",
    "      [-a0/2., a1,    a1/2.],\n",
    "      [0,      a1/2., 0.]]\n",
    "\n",
    "R2 = [[0.,    0.,   -a0/2],\n",
    "      [0.,    0.,    a1/2.],\n",
    "      [-a0/2, a1/2., a1]]\n",
    "\n",
    "Q1 = Q2 = gamma\n",
    "\n",
    "S1 = S2 = W1 = W2 = M1 = M2 = 0.0\n",
    "\n",
    "# == Solve using QE's nnash function == #\n",
    "F1, F2, P1, P2 = qe.nnash(A, B1, B2, R1, R2, Q1, Q2, S1, S2, W1, W2, M1, M2,\n",
    "                       beta=beta)"
   ]
  },
  {
   "cell_type": "markdown",
   "metadata": {},
   "source": [
    "Now we evaluate the time path of industry output and prices given initial condition $q_{10} = q_{20} = 1$"
   ]
  },
  {
   "cell_type": "code",
   "execution_count": 4,
   "metadata": {
    "collapsed": false
   },
   "outputs": [],
   "source": [
    "AF = A - B1.dot(F1) - B2.dot(F2)\n",
    "n = 20\n",
    "x = np.empty((3, n))\n",
    "x[:, 0] = 1, 1, 1   \n",
    "for t in range(n-1):\n",
    "    x[:, t+1] = np.dot(AF, x[:, t])\n",
    "q1 = x[1, :]\n",
    "q2 = x[2, :]\n",
    "q = q1 + q2       # Total output, MPE\n",
    "p = a0 - a1 * q   # Price, MPE"
   ]
  },
  {
   "cell_type": "markdown",
   "metadata": {},
   "source": [
    "Next let's have a look at the monopoly solution\n",
    "\n",
    "For the state and control we take\n",
    "\n",
    "$$ \n",
    "    x_t = q_t - \\bar q \n",
    "    \\quad \\text{and} \\quad\n",
    "    u_t = q_{t+1} - q_t\n",
    "$$\n",
    "\n",
    "To convert to an LQ problem we set\n",
    "\n",
    "$$\n",
    "    R = a_1\n",
    "    \\quad \\text{and} \\quad\n",
    "    Q = \\gamma \n",
    "$$\n",
    "\n",
    "in the payoff function $x_t' R x_t + u_t' Q u_t$ and \n",
    "\n",
    "$$\n",
    "    A = B = 1\n",
    "$$\n",
    "\n",
    "in the law of motion $x_{t+1} = A x_t + B u_t$\n",
    "\n",
    "We solve for the optimal policy $u_t = - Fx_t$ and track the resulting dynamics of $\\{q_t\\}$, starting at $q_0 = 2.0$\n"
   ]
  },
  {
   "cell_type": "code",
   "execution_count": null,
   "metadata": {
    "collapsed": false
   },
   "outputs": [],
   "source": [
    "R = a1\n",
    "Q = gamma\n",
    "A = B = 1\n",
    "lq_alt = qe.LQ(Q, R, A, B, beta=beta)\n",
    "P, F, d = lq_alt.stationary_values()\n",
    "q_bar = a0 / (2.0 * a1)\n",
    "qm = np.empty(n)\n",
    "qm[0] = 2\n",
    "x0 = qm[0] - q_bar\n",
    "x = x0\n",
    "for i in range(1, n):\n",
    "    x = A * x - B * F * x\n",
    "    qm[i] = float(x) + q_bar\n",
    "pm = a0 - a1 * qm"
   ]
  },
  {
   "cell_type": "markdown",
   "metadata": {},
   "source": [
    "Let's have a look at the different time paths"
   ]
  },
  {
   "cell_type": "code",
   "execution_count": 5,
   "metadata": {
    "collapsed": false
   },
   "outputs": [
    {
     "data": {
      "text/plain": [
       "<matplotlib.legend.Legend at 0x7f8d085e6990>"
      ]
     },
     "execution_count": 5,
     "metadata": {},
     "output_type": "execute_result"
    },
    {
     "data": {
      "image/png": "[encoded data removed]",
      "text/plain": [
       "<matplotlib.figure.Figure at 0x7f8d087422d0>"
      ]
     },
     "metadata": {},
     "output_type": "display_data"
    }
   ],
   "source": [
    "fig, axes = plt.subplots(2, 1, figsize=(9, 9))\n",
    "\n",
    "ax = axes[0]\n",
    "ax.plot(qm, 'b-', lw=2, alpha=0.75, label='monopolist output')\n",
    "ax.plot(q, 'g-', lw=2, alpha=0.75, label='MPE total output')\n",
    "ax.set_ylabel(\"output\")\n",
    "ax.set_xlabel(\"time\")\n",
    "ax.set_ylim(2, 4)\n",
    "ax.legend(loc='upper left', frameon=0)\n",
    "\n",
    "\n",
    "ax = axes[1]\n",
    "ax.plot(pm, 'b-', lw=2, alpha=0.75, label='monopolist price')\n",
    "ax.plot(p, 'g-', lw=2, alpha=0.75, label='MPE price')\n",
    "ax.set_ylabel(\"price\")\n",
    "ax.set_xlabel(\"time\")\n",
    "ax.legend(loc='upper right', frameon=0)"
   ]
  },
  {
   "cell_type": "markdown",
   "metadata": {},
   "source": [
    "### Exercise 2"
   ]
  },
  {
   "cell_type": "markdown",
   "metadata": {},
   "source": [
    "We treat the case $\\delta = 0.02$\n",
    "\n"
   ]
  },
  {
   "cell_type": "code",
   "execution_count": 6,
   "metadata": {
    "collapsed": false
   },
   "outputs": [],
   "source": [
    "delta   = 0.02\n",
    "D       = np.array([[-1, 0.5], [0.5, -1]])\n",
    "b       = np.array([25, 25])\n",
    "c1 = c2 = np.array([1, -2, 1])\n",
    "e1 = e2 = np.array([10, 10, 3])\n",
    "\n",
    "delta_1 = 1 - delta"
   ]
  },
  {
   "cell_type": "markdown",
   "metadata": {},
   "source": [
    "Recalling that the control and state are\n",
    "\n",
    "$$\n",
    "    u_{it} =\n",
    "    \\begin{bmatrix} \n",
    "        p_{it} \\\\\n",
    "        q_{it} \n",
    "    \\end{bmatrix}\n",
    "    \\quad \\text{and} \\quad\n",
    "    x_t =\n",
    "    \\begin{bmatrix}\n",
    "        I_{1t} \\\\\n",
    "        I_{2t} \\\\\n",
    "        1\n",
    "    \\end{bmatrix}\n",
    "$$\n",
    "\n",
    "we set up the matrices as follows:"
   ]
  },
  {
   "cell_type": "code",
   "execution_count": 7,
   "metadata": {
    "collapsed": false
   },
   "outputs": [],
   "source": [
    "# ==  Create matrices needed to compute the Nash feedback equilibrium == #\n",
    "\n",
    "A = np.array([[delta_1, 0, -delta_1*b[0]],\n",
    "              [0, delta_1, -delta_1*b[1]],\n",
    "              [0, 0, 1]])\n",
    "\n",
    "B1 = delta_1 * np.array([[1, -D[0, 0]],\n",
    "                        [0, -D[1, 0]],\n",
    "                        [0, 0]])\n",
    "B2 = delta_1 * np.array([[0, -D[0, 1]],\n",
    "                        [1, -D[1, 1]],\n",
    "                        [0, 0]])\n",
    "\n",
    "R1 = -np.array([[0.5*c1[2], 0, 0.5*c1[1]],\n",
    "               [0, 0, 0],\n",
    "               [0.5*c1[1], 0, c1[0]]])\n",
    "R2 = -np.array([[0, 0, 0],\n",
    "               [0, 0.5*c2[2], 0.5*c2[1]],\n",
    "               [0, 0.5*c2[1], c2[0]]])\n",
    "\n",
    "Q1 = np.array([[-0.5*e1[2], 0], [0, D[0, 0]]])\n",
    "Q2 = np.array([[-0.5*e2[2], 0], [0, D[1, 1]]])\n",
    "\n",
    "S1 = np.zeros((2, 2))\n",
    "S2 = np.copy(S1)\n",
    "\n",
    "W1 = np.array([[0, 0],\n",
    "              [0, 0],\n",
    "              [-0.5*e1[1], b[0]/2.]])\n",
    "W2 = np.array([[0, 0],\n",
    "              [0, 0],\n",
    "              [-0.5*e2[1], b[1]/2.]])\n",
    "\n",
    "M1 = np.array([[0, 0], [0, D[0, 1] / 2.]])\n",
    "M2 = np.copy(M1)"
   ]
  },
  {
   "cell_type": "markdown",
   "metadata": {},
   "source": [
    "We can now compute the equilibrium using `qe.nnash`"
   ]
  },
  {
   "cell_type": "code",
   "execution_count": 8,
   "metadata": {
    "collapsed": false
   },
   "outputs": [
    {
     "name": "stdout",
     "output_type": "stream",
     "text": [
      "\n",
      "Firm 1's feedback rule:\n",
      "\n",
      "[[  2.43666582e-01   2.72360627e-02  -6.82788293e+00]\n",
      " [  3.92370734e-01   1.39696451e-01  -3.77341073e+01]]\n",
      "\n",
      "Firm 2's feedback rule:\n",
      "\n",
      "[[  2.72360627e-02   2.43666582e-01  -6.82788293e+00]\n",
      " [  1.39696451e-01   3.92370734e-01  -3.77341073e+01]]\n"
     ]
    }
   ],
   "source": [
    "F1, F2, P1, P2 = qe.nnash(A, B1, B2, R1, R2, Q1, Q2, S1, S2, W1, W2, M1, M2)\n",
    "\n",
    "print(\"\\nFirm 1's feedback rule:\\n\")\n",
    "print(F1)\n",
    "\n",
    "print(\"\\nFirm 2's feedback rule:\\n\")\n",
    "print(F2)"
   ]
  },
  {
   "cell_type": "markdown",
   "metadata": {},
   "source": [
    "Now let's look at the dynamics of inventories, and reproduce the graph corresponding to $\\delta = 0.02$"
   ]
  },
  {
   "cell_type": "code",
   "execution_count": 9,
   "metadata": {
    "collapsed": false
   },
   "outputs": [
    {
     "data": {
      "text/plain": [
       "<matplotlib.legend.Legend at 0x7f8d085c7dd0>"
      ]
     },
     "execution_count": 9,
     "metadata": {},
     "output_type": "execute_result"
    },
    {
     "data": {
      "image/png": "[encoded data removed]",
      "text/plain": [
       "<matplotlib.figure.Figure at 0x7f8d083df810>"
      ]
     },
     "metadata": {},
     "output_type": "display_data"
    }
   ],
   "source": [
    "AF = A - B1.dot(F1) - B2.dot(F2)\n",
    "n = 25\n",
    "x = np.empty((3, n))\n",
    "x[:, 0] = 2, 0, 1\n",
    "for t in range(n-1):\n",
    "    x[:, t+1] = np.dot(AF, x[:, t])\n",
    "I1 = x[0, :]\n",
    "I2 = x[1, :]\n",
    "fig, ax = plt.subplots(figsize=(9, 5))\n",
    "ax.plot(I1, 'b-', lw=2, alpha=0.75, label='inventories, firm 1')\n",
    "ax.plot(I2, 'g-', lw=2, alpha=0.75, label='inventories, firm 2')\n",
    "ax.set_title(r'$\\delta = {}$'.format(delta))\n",
    "ax.legend()"
   ]
  },
  {
   "cell_type": "code",
   "execution_count": null,
   "metadata": {
    "collapsed": false
   },
   "outputs": [],
   "source": []
  }
 ],
 "metadata": {},
 "nbformat": 4,
 "nbformat_minor": 0
}