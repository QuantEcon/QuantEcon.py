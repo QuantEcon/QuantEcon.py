{
 "metadata": {
  "name": "",
  "signature": "sha256:0d27c64dfec03970dd7a7f5ad638c0a6297d7786b4e95caf74265abaf49291f9"
 },
 "nbformat": 3,
 "nbformat_minor": 0,
 "worksheets": [
  {
   "cells": [
    {
     "cell_type": "heading",
     "level": 1,
     "metadata": {},
     "source": [
      "quant-econ Solutions: The Lucas Asset Pricing Model"
     ]
    },
    {
     "cell_type": "markdown",
     "metadata": {},
     "source": [
      "Solutions for http://quant-econ.net/markov_asset.html"
     ]
    },
    {
     "cell_type": "code",
     "collapsed": false,
     "input": [
      "%matplotlib inline"
     ],
     "language": "python",
     "metadata": {},
     "outputs": [],
     "prompt_number": 1
    },
    {
     "cell_type": "code",
     "collapsed": false,
     "input": [
      "from __future__ import division  # Omit for Python 3.x\n",
      "import numpy as np\n",
      "import matplotlib.pyplot as plt\n",
      "from quantecon.models import AssetPrices"
     ],
     "language": "python",
     "metadata": {},
     "outputs": [],
     "prompt_number": 2
    },
    {
     "cell_type": "heading",
     "level": 2,
     "metadata": {},
     "source": [
      "Exercise 1"
     ]
    },
    {
     "cell_type": "code",
     "collapsed": false,
     "input": [
      "\"\"\"\n",
      "Authors: David Evans, John Stachurski and Thomas J. Sargent\n",
      "\"\"\"\n",
      "\n",
      "# == Define primitives == #\n",
      "n = 5\n",
      "P = 0.0125 * np.ones((n, n))\n",
      "P += np.diag(0.95 - 0.0125 * np.ones(5))\n",
      "s = np.array([1.05, 1.025, 1.0, 0.975, 0.95])\n",
      "gamma = 2.0\n",
      "beta = 0.94\n",
      "zeta = 1.0\n",
      "\n",
      "ap = AssetPrices(beta, P, s, gamma)\n",
      "\n",
      "v = ap.tree_price()\n",
      "print(\"Lucas Tree Prices: \", v)\n",
      "\n",
      "v_consol = ap.consol_price(zeta)\n",
      "print(\"Consol Bond Prices: \", v_consol)\n",
      "\n",
      "P_tilde = P * s**(1-gamma)\n",
      "temp = beta * P_tilde.dot(v) + beta * P_tilde.dot(np.ones(n))\n",
      "print(\"Should be 0: \",  v - temp)\n",
      "\n",
      "p_s = 150.0\n",
      "w_bar, w_bars = ap.call_option(zeta, p_s, T = [10,20,30])\n"
     ],
     "language": "python",
     "metadata": {},
     "outputs": [
      {
       "output_type": "stream",
       "stream": "stdout",
       "text": [
        "('Lucas Tree Prices: ', array([ 12.72221763,  14.72515002,  17.57142236,  21.93570661,  29.47401578]))\n",
        "('Consol Bond Prices: ', array([  87.56860139,  109.25108965,  148.67554548,  242.55144082,\n",
        "        753.87100476]))\n",
        "('Should be 0: ', array([  0.00000000e+00,  -1.77635684e-15,   0.00000000e+00,\n",
        "         0.00000000e+00,   0.00000000e+00]))\n"
       ]
      }
     ],
     "prompt_number": 3
    },
    {
     "cell_type": "heading",
     "level": 2,
     "metadata": {},
     "source": [
      "Exercise 2"
     ]
    },
    {
     "cell_type": "code",
     "collapsed": false,
     "input": [
      "from quantecon.models import LucasTree\n",
      "\n",
      "fig, ax = plt.subplots(figsize=(10,7))\n",
      "\n",
      "ax.set_xlabel(r'$y$', fontsize=16)\n",
      "ax.set_ylabel(r'price', fontsize=16)\n",
      "\n",
      "for beta in (.95, 0.98):\n",
      "    tree = LucasTree(gamma=2, beta=beta, alpha=0.90, sigma=0.1)\n",
      "    grid, price_vals = tree.grid, tree.compute_lt_price()\n",
      "    label = r'$\\beta = {}$'.format(beta)\n",
      "    ax.plot(grid, price_vals, lw=2, alpha=0.7, label=label)\n",
      "\n",
      "ax.legend(loc='upper left')\n",
      "ax.set_xlim(min(grid), max(grid))"
     ],
     "language": "python",
     "metadata": {},
     "outputs": [
      {
       "output_type": "stream",
       "stream": "stdout",
       "text": [
        "Computed iterate 1 with error 2.049384\n",
        "Computed iterate 2 with error 1.661493\n",
        "Computed iterate 3 with error 1.378032"
       ]
      },
      {
       "output_type": "stream",
       "stream": "stdout",
       "text": [
        "\n",
        "Computed iterate 4 with error 1.156638\n",
        "Computed iterate 5 with error 0.978062"
       ]
      },
      {
       "output_type": "stream",
       "stream": "stdout",
       "text": [
        "\n",
        "Computed iterate 6 with error 0.832668\n",
        "Computed iterate 7 with error 0.713060"
       ]
      },
      {
       "output_type": "stream",
       "stream": "stdout",
       "text": [
        "\n",
        "Computed iterate 8 with error 0.613716\n",
        "Computed iterate 9 with error 0.530633"
       ]
      },
      {
       "output_type": "stream",
       "stream": "stdout",
       "text": [
        "\n",
        "Computed iterate 10 with error 0.460669\n",
        "Computed iterate 11 with error 0.401395"
       ]
      },
      {
       "output_type": "stream",
       "stream": "stdout",
       "text": [
        "\n",
        "Computed iterate 12 with error 0.350903\n",
        "Computed iterate 13 with error 0.307676"
       ]
      },
      {
       "output_type": "stream",
       "stream": "stdout",
       "text": [
        "\n",
        "Computed iterate 14 with error 0.270498\n",
        "Computed iterate 15 with error 0.238388"
       ]
      },
      {
       "output_type": "stream",
       "stream": "stdout",
       "text": [
        "\n",
        "Computed iterate 16 with error 0.210549\n",
        "Computed iterate 17 with error 0.186327"
       ]
      },
      {
       "output_type": "stream",
       "stream": "stdout",
       "text": [
        "\n",
        "Computed iterate 18 with error 0.165185\n",
        "Computed iterate 19 with error 0.146677"
       ]
      },
      {
       "output_type": "stream",
       "stream": "stdout",
       "text": [
        "\n",
        "Computed iterate 20 with error 0.130430\n",
        "Computed iterate 21 with error 0.116135"
       ]
      },
      {
       "output_type": "stream",
       "stream": "stdout",
       "text": [
        "\n",
        "Computed iterate 22 with error 0.103528\n",
        "Computed iterate 23 with error 0.092387"
       ]
      },
      {
       "output_type": "stream",
       "stream": "stdout",
       "text": [
        "\n",
        "Computed iterate 24 with error 0.082524"
       ]
      },
      {
       "output_type": "stream",
       "stream": "stdout",
       "text": [
        "\n",
        "Computed iterate 25 with error 0.073778\n",
        "Computed iterate 26 with error 0.066009"
       ]
      },
      {
       "output_type": "stream",
       "stream": "stdout",
       "text": [
        "\n",
        "Computed iterate 27 with error 0.059100"
       ]
      },
      {
       "output_type": "stream",
       "stream": "stdout",
       "text": [
        "\n",
        "Computed iterate 28 with error 0.052948\n",
        "Computed iterate 29 with error 0.047463"
       ]
      },
      {
       "output_type": "stream",
       "stream": "stdout",
       "text": [
        "\n",
        "Computed iterate 30 with error 0.042567\n",
        "Computed iterate 31 with error 0.038195"
       ]
      },
      {
       "output_type": "stream",
       "stream": "stdout",
       "text": [
        "\n",
        "Computed iterate 32 with error 0.034285\n",
        "Computed iterate 33 with error 0.030788"
       ]
      },
      {
       "output_type": "stream",
       "stream": "stdout",
       "text": [
        "\n",
        "Computed iterate 34 with error 0.027656\n",
        "Computed iterate 35 with error 0.024851"
       ]
      },
      {
       "output_type": "stream",
       "stream": "stdout",
       "text": [
        "\n",
        "Computed iterate 36 with error 0.022336\n",
        "Computed iterate 37 with error 0.020081"
       ]
      },
      {
       "output_type": "stream",
       "stream": "stdout",
       "text": [
        "\n",
        "Computed iterate 38 with error 0.018057"
       ]
      },
      {
       "output_type": "stream",
       "stream": "stdout",
       "text": [
        "\n",
        "Computed iterate 39 with error 0.016240\n",
        "Computed iterate 40 with error 0.014609"
       ]
      },
      {
       "output_type": "stream",
       "stream": "stdout",
       "text": [
        "\n",
        "Computed iterate 41 with error 0.013144\n",
        "Computed iterate 42 with error 0.011828"
       ]
      },
      {
       "output_type": "stream",
       "stream": "stdout",
       "text": [
        "\n",
        "Computed iterate 43 with error 0.010644\n",
        "Computed iterate 44 with error 0.009581"
       ]
      },
      {
       "output_type": "stream",
       "stream": "stdout",
       "text": [
        "\n",
        "Computed iterate 45 with error 0.008624\n",
        "Computed iterate 46 with error 0.007764"
       ]
      },
      {
       "output_type": "stream",
       "stream": "stdout",
       "text": [
        "\n",
        "Computed iterate 47 with error 0.006990\n",
        "Computed iterate 48 with error 0.006294"
       ]
      },
      {
       "output_type": "stream",
       "stream": "stdout",
       "text": [
        "\n",
        "Computed iterate 49 with error 0.005667\n",
        "Computed iterate 50 with error 0.005103"
       ]
      },
      {
       "output_type": "stream",
       "stream": "stdout",
       "text": [
        "\n",
        "Computed iterate 1 with error 2.114102"
       ]
      },
      {
       "output_type": "stream",
       "stream": "stdout",
       "text": [
        "\n",
        "Computed iterate 2 with error 1.768086\n",
        "Computed iterate 3 with error 1.512748"
       ]
      },
      {
       "output_type": "stream",
       "stream": "stdout",
       "text": [
        "\n",
        "Computed iterate 4 with error 1.309807\n",
        "Computed iterate 5 with error 1.142560"
       ]
      },
      {
       "output_type": "stream",
       "stream": "stdout",
       "text": [
        "\n",
        "Computed iterate 6 with error 1.003430\n",
        "Computed iterate 7 with error 0.886428"
       ]
      },
      {
       "output_type": "stream",
       "stream": "stdout",
       "text": [
        "\n",
        "Computed iterate 8 with error 0.787023\n",
        "Computed iterate 9 with error 0.701967"
       ]
      },
      {
       "output_type": "stream",
       "stream": "stdout",
       "text": [
        "\n",
        "Computed iterate 10 with error 0.628656\n",
        "Computed iterate 11 with error 0.565065"
       ]
      },
      {
       "output_type": "stream",
       "stream": "stdout",
       "text": [
        "\n",
        "Computed iterate 12 with error 0.509586\n",
        "Computed iterate 13 with error 0.460920"
       ]
      },
      {
       "output_type": "stream",
       "stream": "stdout",
       "text": [
        "\n",
        "Computed iterate 14 with error 0.418022\n",
        "Computed iterate 15 with error 0.380033"
       ]
      },
      {
       "output_type": "stream",
       "stream": "stdout",
       "text": [
        "\n",
        "Computed iterate 16 with error 0.346252"
       ]
      },
      {
       "output_type": "stream",
       "stream": "stdout",
       "text": [
        "\n",
        "Computed iterate 17 with error 0.316095\n",
        "Computed iterate 18 with error 0.289078"
       ]
      },
      {
       "output_type": "stream",
       "stream": "stdout",
       "text": [
        "\n",
        "Computed iterate 19 with error 0.264794\n",
        "Computed iterate 20 with error 0.242900"
       ]
      },
      {
       "output_type": "stream",
       "stream": "stdout",
       "text": [
        "\n",
        "Computed iterate 21 with error 0.223108\n",
        "Computed iterate 22 with error 0.205169"
       ]
      },
      {
       "output_type": "stream",
       "stream": "stdout",
       "text": [
        "\n",
        "Computed iterate 23 with error 0.188873\n",
        "Computed iterate 24 with error 0.174037"
       ]
      },
      {
       "output_type": "stream",
       "stream": "stdout",
       "text": [
        "\n",
        "Computed iterate 25 with error 0.160504\n",
        "Computed iterate 26 with error 0.148139"
       ]
      },
      {
       "output_type": "stream",
       "stream": "stdout",
       "text": [
        "\n",
        "Computed iterate 27 with error 0.136822\n",
        "Computed iterate 28 with error 0.126449"
       ]
      },
      {
       "output_type": "stream",
       "stream": "stdout",
       "text": [
        "\n",
        "Computed iterate 29 with error 0.116929\n",
        "Computed iterate 30 with error 0.108181"
       ]
      },
      {
       "output_type": "stream",
       "stream": "stdout",
       "text": [
        "\n",
        "Computed iterate 31 with error 0.100134"
       ]
      },
      {
       "output_type": "stream",
       "stream": "stdout",
       "text": [
        "\n",
        "Computed iterate 32 with error 0.092723\n",
        "Computed iterate 33 with error 0.085893"
       ]
      },
      {
       "output_type": "stream",
       "stream": "stdout",
       "text": [
        "\n",
        "Computed iterate 34 with error 0.079593\n",
        "Computed iterate 35 with error 0.073778"
       ]
      },
      {
       "output_type": "stream",
       "stream": "stdout",
       "text": [
        "\n",
        "Computed iterate 36 with error 0.068406\n",
        "Computed iterate 37 with error 0.063441"
       ]
      },
      {
       "output_type": "stream",
       "stream": "stdout",
       "text": [
        "\n",
        "Computed iterate 38 with error 0.058849\n",
        "Computed iterate 39 with error 0.054600"
       ]
      },
      {
       "output_type": "stream",
       "stream": "stdout",
       "text": [
        "\n",
        "Computed iterate 40 with error 0.050667\n",
        "Computed iterate 41 with error 0.047025"
       ]
      },
      {
       "output_type": "stream",
       "stream": "stdout",
       "text": [
        "\n",
        "Computed iterate 42 with error 0.043651\n",
        "Computed iterate 43 with error 0.040525"
       ]
      },
      {
       "output_type": "stream",
       "stream": "stdout",
       "text": [
        "\n",
        "Computed iterate 44 with error 0.037627"
       ]
      },
      {
       "output_type": "stream",
       "stream": "stdout",
       "text": [
        "\n",
        "Computed iterate 45 with error 0.034940\n",
        "Computed iterate 46 with error 0.032448"
       ]
      },
      {
       "output_type": "stream",
       "stream": "stdout",
       "text": [
        "\n",
        "Computed iterate 47 with error 0.030136\n",
        "Computed iterate 48 with error 0.027991"
       ]
      },
      {
       "output_type": "stream",
       "stream": "stdout",
       "text": [
        "\n",
        "Computed iterate 49 with error 0.026000\n",
        "Computed iterate 50 with error 0.024153"
       ]
      },
      {
       "output_type": "stream",
       "stream": "stdout",
       "text": [
        "\n"
       ]
      },
      {
       "metadata": {},
       "output_type": "pyout",
       "prompt_number": 4,
       "text": [
        "(0.39945149497311855, 2.5034328637756031)"
       ]
      },
      {
       "metadata": {},
       "output_type": "display_data",
       "png": "[encoded data removed]",
       "text": [
        "<matplotlib.figure.Figure at 0x10b5b1410>"
       ]
      }
     ],
     "prompt_number": 4
    },
    {
     "cell_type": "code",
     "collapsed": false,
     "input": [],
     "language": "python",
     "metadata": {},
     "outputs": []
    }
   ],
   "metadata": {}
  }
 ]
}