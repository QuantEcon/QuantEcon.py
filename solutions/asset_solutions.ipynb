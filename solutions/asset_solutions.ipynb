{
 "metadata": {
  "name": "",
  "signature": "sha256:d5dbe130177a92ce29f13eddbc09c7920dcd23d0899b0167ebf45dc8da81ebe5"
 },
 "nbformat": 3,
 "nbformat_minor": 0,
 "worksheets": [
  {
   "cells": [
    {
     "cell_type": "heading",
     "level": 1,
     "metadata": {},
     "source": [
      "quant-econ Solutions: The Lucas Asset Pricing Model"
     ]
    },
    {
     "cell_type": "markdown",
     "metadata": {},
     "source": [
      "Solutions for http://quant-econ.net/markov_asset.html"
     ]
    },
    {
     "cell_type": "code",
     "collapsed": false,
     "input": [
      "%matplotlib inline"
     ],
     "language": "python",
     "metadata": {},
     "outputs": [],
     "prompt_number": 1
    },
    {
     "cell_type": "code",
     "collapsed": false,
     "input": [
      "from __future__ import division  # Omit for Python 3.x\n",
      "import numpy as np\n",
      "import matplotlib.pyplot as plt\n",
      "from quantecon import AssetPrices"
     ],
     "language": "python",
     "metadata": {},
     "outputs": [],
     "prompt_number": 2
    },
    {
     "cell_type": "heading",
     "level": 2,
     "metadata": {},
     "source": [
      "Exercise 1"
     ]
    },
    {
     "cell_type": "code",
     "collapsed": false,
     "input": [
      "\"\"\"\n",
      "Authors: David Evans, John Stachurski and Thomas J. Sargent\n",
      "\"\"\"\n",
      "\n",
      "# == Define primitives == #\n",
      "n = 5\n",
      "P = 0.0125 * np.ones((n, n))\n",
      "P += np.diag(0.95 - 0.0125 * np.ones(5))\n",
      "s = np.array([1.05, 1.025, 1.0, 0.975, 0.95])\n",
      "gamma = 2.0\n",
      "beta = 0.94\n",
      "zeta = 1.0\n",
      "\n",
      "ap = AssetPrices(beta, P, s, gamma)\n",
      "\n",
      "v = ap.tree_price()\n",
      "print \"Lucas Tree Prices: \", v\n",
      "\n",
      "v_consol = ap.consol_price(zeta)\n",
      "print \"Consol Bond Prices: \", v_consol\n",
      "\n",
      "P_tilde = P * s**(1-gamma)\n",
      "temp = beta * P_tilde.dot(v) - beta * P_tilde.dot(np.ones(n))\n",
      "print \"Should be 0: \",  v - temp \n",
      "\n",
      "p_s = 150.0\n",
      "w_bar, w_bars = ap.call_option(zeta, p_s, T = [10,20,30])\n"
     ],
     "language": "python",
     "metadata": {},
     "outputs": [
      {
       "output_type": "stream",
       "stream": "stdout",
       "text": [
        "Lucas Tree Prices:  [ 12.28465197  14.42111319  17.45713702  22.11237355  30.15323666]\n",
        "Consol Bond Prices:  [  75.51427238   98.64225987  140.69501276  240.82930111  786.23683599]\n",
        "Should be 0:  [ 1.72509033  1.79371484  1.86577057  1.94152147  2.02125926]\n"
       ]
      }
     ],
     "prompt_number": 3
    },
    {
     "cell_type": "heading",
     "level": 2,
     "metadata": {},
     "source": [
      "Exercise 2"
     ]
    },
    {
     "cell_type": "code",
     "collapsed": false,
     "input": [
      "\n",
      "from quantecon import lucas_tree, compute_lt_price\n",
      "\n",
      "fig, ax = plt.subplots(figsize=(10,7))\n",
      "\n",
      "ax.set_xlabel(r'$y$', fontsize=16)\n",
      "ax.set_ylabel(r'price', fontsize=16)\n",
      "\n",
      "for beta in (.95, 0.98):\n",
      "    tree = lucas_tree(gamma=2, beta=beta, alpha=0.90, sigma=0.1)\n",
      "    grid, price_vals = compute_lt_price(tree)\n",
      "    label = r'$\\beta = {}$'.format(beta)\n",
      "    ax.plot(grid, price_vals, lw=2, alpha=0.7, label=label)\n",
      "\n",
      "ax.legend(loc='upper left')\n",
      "ax.set_xlim(min(grid), max(grid))\n",
      "\n"
     ],
     "language": "python",
     "metadata": {},
     "outputs": [
      {
       "output_type": "stream",
       "stream": "stdout",
       "text": [
        "2.04938432509\n",
        "1.66149297725\n",
        "1.37803173269"
       ]
      },
      {
       "output_type": "stream",
       "stream": "stdout",
       "text": [
        "\n",
        "1.15663751147\n",
        "0.978062304284"
       ]
      },
      {
       "output_type": "stream",
       "stream": "stdout",
       "text": [
        "\n",
        "0.832668325534\n",
        "0.713060167719"
       ]
      },
      {
       "output_type": "stream",
       "stream": "stdout",
       "text": [
        "\n",
        "0.61371626793\n",
        "0.53063330463"
       ]
      },
      {
       "output_type": "stream",
       "stream": "stdout",
       "text": [
        "\n",
        "0.460668631589\n",
        "0.401394661594"
       ]
      },
      {
       "output_type": "stream",
       "stream": "stdout",
       "text": [
        "\n",
        "0.350903428553\n",
        "0.307676036308"
       ]
      },
      {
       "output_type": "stream",
       "stream": "stdout",
       "text": [
        "\n",
        "0.27049798974\n",
        "0.238388117941"
       ]
      },
      {
       "output_type": "stream",
       "stream": "stdout",
       "text": [
        "\n",
        "0.210548793647\n",
        "0.186327054293"
       ]
      },
      {
       "output_type": "stream",
       "stream": "stdout",
       "text": [
        "\n",
        "0.165184942744\n",
        "0.146676609164"
       ]
      },
      {
       "output_type": "stream",
       "stream": "stdout",
       "text": [
        "\n",
        "0.130430429253\n",
        "0.116134976434"
       ]
      },
      {
       "output_type": "stream",
       "stream": "stdout",
       "text": [
        "\n",
        "0.103527938351\n",
        "0.0923873003367"
       ]
      },
      {
       "output_type": "stream",
       "stream": "stdout",
       "text": [
        "\n",
        "0.0825242944775\n",
        "0.0737777259241"
       ]
      },
      {
       "output_type": "stream",
       "stream": "stdout",
       "text": [
        "\n",
        "0.0660093832382\n",
        "0.0591003057495"
       ]
      },
      {
       "output_type": "stream",
       "stream": "stdout",
       "text": [
        "\n",
        "0.05294773235\n",
        "0.0474625949005"
       ]
      },
      {
       "output_type": "stream",
       "stream": "stdout",
       "text": [
        "\n",
        "0.0425674491262\n",
        "0.0381947586263"
       ]
      },
      {
       "output_type": "stream",
       "stream": "stdout",
       "text": [
        "\n",
        "0.034285465252\n",
        "0.0307877927868"
       ]
      },
      {
       "output_type": "stream",
       "stream": "stdout",
       "text": [
        "\n",
        "0.0276562415505\n",
        "0.0248507399348"
       ]
      },
      {
       "output_type": "stream",
       "stream": "stdout",
       "text": [
        "\n",
        "0.0223359254809\n",
        "0.0200805333435"
       ]
      },
      {
       "output_type": "stream",
       "stream": "stdout",
       "text": [
        "\n",
        "0.0180568741442\n",
        "0.0162403865331"
       ]
      },
      {
       "output_type": "stream",
       "stream": "stdout",
       "text": [
        "\n",
        "0.0146092524399\n",
        "0.0131440651338"
       ]
      },
      {
       "output_type": "stream",
       "stream": "stdout",
       "text": [
        "\n",
        "0.0118275419375\n",
        "0.0106442748427"
       ]
      },
      {
       "output_type": "stream",
       "stream": "stdout",
       "text": [
        "\n",
        "0.00958051340986\n",
        "0.00862397526576"
       ]
      },
      {
       "output_type": "stream",
       "stream": "stdout",
       "text": [
        "\n",
        "0.00776368027316\n",
        "0.00698980507068"
       ]
      },
      {
       "output_type": "stream",
       "stream": "stdout",
       "text": [
        "\n",
        "0.00629355519812\n",
        "0.00566705244881"
       ]
      },
      {
       "output_type": "stream",
       "stream": "stdout",
       "text": [
        "\n",
        "0.00510323544463\n",
        "2.11410172483"
       ]
      },
      {
       "output_type": "stream",
       "stream": "stdout",
       "text": [
        "\n",
        "1.76808626632\n",
        "1.51274814702"
       ]
      },
      {
       "output_type": "stream",
       "stream": "stdout",
       "text": [
        "\n",
        "1.30980654015\n",
        "1.14255962452"
       ]
      },
      {
       "output_type": "stream",
       "stream": "stdout",
       "text": [
        "\n",
        "1.00342950503\n",
        "0.886428008071"
       ]
      },
      {
       "output_type": "stream",
       "stream": "stdout",
       "text": [
        "\n",
        "0.787022953298\n",
        "0.70196706799"
       ]
      },
      {
       "output_type": "stream",
       "stream": "stdout",
       "text": [
        "\n",
        "0.628656405159\n",
        "0.565065466631"
       ]
      },
      {
       "output_type": "stream",
       "stream": "stdout",
       "text": [
        "\n",
        "0.509585728274\n",
        "0.460920248439"
       ]
      },
      {
       "output_type": "stream",
       "stream": "stdout",
       "text": [
        "\n",
        "0.418021507936\n",
        "0.380033307102"
       ]
      },
      {
       "output_type": "stream",
       "stream": "stdout",
       "text": [
        "\n",
        "0.346251994641\n",
        "0.316095210172"
       ]
      },
      {
       "output_type": "stream",
       "stream": "stdout",
       "text": [
        "\n",
        "0.289077922146\n",
        "0.264793792094"
       ]
      },
      {
       "output_type": "stream",
       "stream": "stdout",
       "text": [
        "\n",
        "0.242900456854\n",
        "0.223107882629"
       ]
      },
      {
       "output_type": "stream",
       "stream": "stdout",
       "text": [
        "\n",
        "0.20516908162\n",
        "0.18887265966"
       ]
      },
      {
       "output_type": "stream",
       "stream": "stdout",
       "text": [
        "\n",
        "0.174036808194\n",
        "0.16050443042"
       ]
      },
      {
       "output_type": "stream",
       "stream": "stdout",
       "text": [
        "\n",
        "0.148139169445\n",
        "0.136822155668"
       ]
      },
      {
       "output_type": "stream",
       "stream": "stdout",
       "text": [
        "\n",
        "0.126449331046\n",
        "0.116929238194"
       ]
      },
      {
       "output_type": "stream",
       "stream": "stdout",
       "text": [
        "\n",
        "0.108181185858\n",
        "0.100133720391"
       ]
      },
      {
       "output_type": "stream",
       "stream": "stdout",
       "text": [
        "\n",
        "0.0927233470658\n",
        "0.085893456185"
       ]
      },
      {
       "output_type": "stream",
       "stream": "stdout",
       "text": [
        "\n",
        "0.079593417688\n",
        "0.0737778149219"
       ]
      },
      {
       "output_type": "stream",
       "stream": "stdout",
       "text": [
        "\n",
        "0.0684057937383\n",
        "0.063440507501"
       ]
      },
      {
       "output_type": "stream",
       "stream": "stdout",
       "text": [
        "\n",
        "0.0588486421254\n",
        "0.0546000081206"
       ]
      },
      {
       "output_type": "stream",
       "stream": "stdout",
       "text": [
        "\n",
        "0.0506671889097\n",
        "0.0470252365742"
       ]
      },
      {
       "output_type": "stream",
       "stream": "stdout",
       "text": [
        "\n",
        "0.0436514076887\n",
        "0.0405249331561"
       ]
      },
      {
       "output_type": "stream",
       "stream": "stdout",
       "text": [
        "\n",
        "0.0376268169703\n",
        "0.0349396596699"
       ]
      },
      {
       "output_type": "stream",
       "stream": "stdout",
       "text": [
        "\n",
        "0.0324475029337\n",
        "0.0301356923393"
       ]
      },
      {
       "output_type": "stream",
       "stream": "stdout",
       "text": [
        "\n",
        "0.0279907557738\n",
        "0.0260002953794"
       ]
      },
      {
       "output_type": "stream",
       "stream": "stdout",
       "text": [
        "\n",
        "0.0241528912394\n"
       ]
      },
      {
       "metadata": {},
       "output_type": "pyout",
       "prompt_number": 4,
       "text": [
        "(0.39945149497311855, 2.5034328637756031)"
       ]
      },
      {
       "metadata": {},
       "output_type": "display_data",
       "png": "[encoded data removed]",
       "text": [
        "<matplotlib.figure.Figure at 0x3cfedd0>"
       ]
      }
     ],
     "prompt_number": 4
    },
    {
     "cell_type": "code",
     "collapsed": false,
     "input": [],
     "language": "python",
     "metadata": {},
     "outputs": []
    }
   ],
   "metadata": {}
  }
 ]
}