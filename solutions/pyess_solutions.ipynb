{
 "metadata": {
  "name": "",
  "signature": "sha256:de49037570346c68172d121a401bf7fdc0293e786765a79b1e3ea6888656c8a3"
 },
 "nbformat": 3,
 "nbformat_minor": 0,
 "worksheets": [
  {
   "cells": [
    {
     "cell_type": "heading",
     "level": 1,
     "metadata": {},
     "source": [
      "quant-econ Solutions: Python Essentials"
     ]
    },
    {
     "cell_type": "markdown",
     "metadata": {},
     "source": [
      "Solutions for http://quant-econ.net/python_essentials.html"
     ]
    },
    {
     "cell_type": "code",
     "collapsed": false,
     "input": [
      "from __future__ import division  # Omit for Python 3.x"
     ],
     "language": "python",
     "metadata": {},
     "outputs": [],
     "prompt_number": 1
    },
    {
     "cell_type": "heading",
     "level": 2,
     "metadata": {},
     "source": [
      "Exercise 1"
     ]
    },
    {
     "cell_type": "heading",
     "level": 4,
     "metadata": {},
     "source": [
      "Part 1 solution:"
     ]
    },
    {
     "cell_type": "markdown",
     "metadata": {},
     "source": [
      "Here's one possible solution"
     ]
    },
    {
     "cell_type": "code",
     "collapsed": false,
     "input": [
      "x_vals = [1, 2, 3]\n",
      "y_vals = [1, 1, 1]\n",
      "sum([x * y for x, y in zip(x_vals, y_vals)])"
     ],
     "language": "python",
     "metadata": {},
     "outputs": [
      {
       "metadata": {},
       "output_type": "pyout",
       "prompt_number": 2,
       "text": [
        "6"
       ]
      }
     ],
     "prompt_number": 2
    },
    {
     "cell_type": "markdown",
     "metadata": {},
     "source": [
      "This also works"
     ]
    },
    {
     "cell_type": "code",
     "collapsed": false,
     "input": [
      "sum(x * y for x, y in zip(x_vals, y_vals))"
     ],
     "language": "python",
     "metadata": {},
     "outputs": [
      {
       "metadata": {},
       "output_type": "pyout",
       "prompt_number": 3,
       "text": [
        "6"
       ]
      }
     ],
     "prompt_number": 3
    },
    {
     "cell_type": "heading",
     "level": 4,
     "metadata": {},
     "source": [
      "Part 2 solution:"
     ]
    },
    {
     "cell_type": "markdown",
     "metadata": {},
     "source": [
      "One solution is"
     ]
    },
    {
     "cell_type": "code",
     "collapsed": false,
     "input": [
      "sum([x % 2 == 0 for x in range(100)])"
     ],
     "language": "python",
     "metadata": {},
     "outputs": [
      {
       "metadata": {},
       "output_type": "pyout",
       "prompt_number": 4,
       "text": [
        "50"
       ]
      }
     ],
     "prompt_number": 4
    },
    {
     "cell_type": "markdown",
     "metadata": {},
     "source": [
      "This also works:"
     ]
    },
    {
     "cell_type": "code",
     "collapsed": false,
     "input": [
      "sum(x % 2 == 0 for x in range(100))"
     ],
     "language": "python",
     "metadata": {},
     "outputs": [
      {
       "metadata": {},
       "output_type": "pyout",
       "prompt_number": 5,
       "text": [
        "50"
       ]
      }
     ],
     "prompt_number": 5
    },
    {
     "cell_type": "markdown",
     "metadata": {},
     "source": [
      "Some less natural alternatives that nonetheless help to illustrate the flexibility of list comprehensions are"
     ]
    },
    {
     "cell_type": "code",
     "collapsed": false,
     "input": [
      "len([x for x in range(100) if x % 2 == 0])"
     ],
     "language": "python",
     "metadata": {},
     "outputs": [
      {
       "metadata": {},
       "output_type": "pyout",
       "prompt_number": 6,
       "text": [
        "50"
       ]
      }
     ],
     "prompt_number": 6
    },
    {
     "cell_type": "markdown",
     "metadata": {},
     "source": [
      "and"
     ]
    },
    {
     "cell_type": "code",
     "collapsed": false,
     "input": [
      "sum([1 for x in range(100) if x % 2 == 0])"
     ],
     "language": "python",
     "metadata": {},
     "outputs": [
      {
       "metadata": {},
       "output_type": "pyout",
       "prompt_number": 7,
       "text": [
        "50"
       ]
      }
     ],
     "prompt_number": 7
    },
    {
     "cell_type": "heading",
     "level": 4,
     "metadata": {},
     "source": [
      "Part 3 solution"
     ]
    },
    {
     "cell_type": "markdown",
     "metadata": {},
     "source": [
      "Here's one possibility"
     ]
    },
    {
     "cell_type": "code",
     "collapsed": false,
     "input": [
      "pairs = ((2, 5), (4, 2), (9, 8), (12, 10))\n",
      "sum([x % 2 == 0 and y % 2 == 0 for x, y in pairs])"
     ],
     "language": "python",
     "metadata": {},
     "outputs": [
      {
       "metadata": {},
       "output_type": "pyout",
       "prompt_number": 8,
       "text": [
        "2"
       ]
      }
     ],
     "prompt_number": 8
    },
    {
     "cell_type": "heading",
     "level": 2,
     "metadata": {},
     "source": [
      "Exercise 2"
     ]
    },
    {
     "cell_type": "code",
     "collapsed": false,
     "input": [
      "def p(x, coeff):\n",
      "    return sum(a * x**i for i, a in enumerate(coeff))\n"
     ],
     "language": "python",
     "metadata": {},
     "outputs": [],
     "prompt_number": 9
    },
    {
     "cell_type": "code",
     "collapsed": false,
     "input": [
      "p(1, (2, 4))"
     ],
     "language": "python",
     "metadata": {},
     "outputs": [
      {
       "metadata": {},
       "output_type": "pyout",
       "prompt_number": 10,
       "text": [
        "6"
       ]
      }
     ],
     "prompt_number": 10
    },
    {
     "cell_type": "heading",
     "level": 2,
     "metadata": {},
     "source": [
      "Exercise 3"
     ]
    },
    {
     "cell_type": "markdown",
     "metadata": {},
     "source": [
      "Here's one solution:"
     ]
    },
    {
     "cell_type": "code",
     "collapsed": false,
     "input": [
      "def f(string):\n",
      "    count = 0\n",
      "    for letter in string:\n",
      "        if letter == letter.upper() and letter.isalpha():\n",
      "            count += 1\n",
      "    return count\n",
      "f('The Rain in Spain')"
     ],
     "language": "python",
     "metadata": {},
     "outputs": [
      {
       "metadata": {},
       "output_type": "pyout",
       "prompt_number": 11,
       "text": [
        "3"
       ]
      }
     ],
     "prompt_number": 11
    },
    {
     "cell_type": "heading",
     "level": 2,
     "metadata": {},
     "source": [
      "Exercise 4"
     ]
    },
    {
     "cell_type": "markdown",
     "metadata": {},
     "source": [
      "Here's a solution:"
     ]
    },
    {
     "cell_type": "code",
     "collapsed": false,
     "input": [
      "def f(seq_a, seq_b):\n",
      "    is_subset = True\n",
      "    for a in seq_a:\n",
      "        if a not in seq_b:\n",
      "            is_subset = False\n",
      "    return is_subset\n",
      "\n",
      "# == test == #\n",
      "\n",
      "print(f([1, 2], [1, 2, 3]))\n",
      "print(f([1, 2, 3], [1, 2]))"
     ],
     "language": "python",
     "metadata": {},
     "outputs": [
      {
       "output_type": "stream",
       "stream": "stdout",
       "text": [
        "True\n",
        "False\n"
       ]
      }
     ],
     "prompt_number": 12
    },
    {
     "cell_type": "markdown",
     "metadata": {},
     "source": [
      "Of course if we use the `sets` data type then the solution is easier"
     ]
    },
    {
     "cell_type": "code",
     "collapsed": false,
     "input": [
      "def f(seq_a, seq_b):\n",
      "    return set(seq_a).issubset(set(seq_b))"
     ],
     "language": "python",
     "metadata": {},
     "outputs": [],
     "prompt_number": 13
    },
    {
     "cell_type": "heading",
     "level": 2,
     "metadata": {},
     "source": [
      "Exercise 5"
     ]
    },
    {
     "cell_type": "code",
     "collapsed": false,
     "input": [
      "def linapprox(f, a, b, n, x):\n",
      "    \"\"\"\n",
      "    Evaluates the piecewise linear interpolant of f at x on the interval \n",
      "    [a, b], with n evenly spaced grid points.\n",
      "\n",
      "    Parameters \n",
      "    ===========\n",
      "        f : function\n",
      "            The function to approximate\n",
      "\n",
      "        x, a, b : scalars (floats or integers) \n",
      "            Evaluation point and endpoints, with a <= x <= b\n",
      "\n",
      "        n : integer\n",
      "            Number of grid points\n",
      "\n",
      "    Returns\n",
      "    =========\n",
      "        A float. The interpolant evaluated at x\n",
      "\n",
      "    \"\"\"\n",
      "    length_of_interval = b - a\n",
      "    num_subintervals = n - 1\n",
      "    step = length_of_interval / num_subintervals  \n",
      "\n",
      "    # === find first grid point larger than x === #\n",
      "    point = a\n",
      "    while point <= x:\n",
      "        point += step\n",
      "\n",
      "    # === x must lie between the gridpoints (point - step) and point === #\n",
      "    u, v = point - step, point  \n",
      "\n",
      "    return f(u) + (x - u) * (f(v) - f(u)) / (v - u)\n"
     ],
     "language": "python",
     "metadata": {},
     "outputs": [],
     "prompt_number": 14
    }
   ],
   "metadata": {}
  }
 ]
}