{
 "metadata": {
  "name": "",
  "signature": "sha256:eb9beecde1ec85170dc939ffdb09be8a9f6f6b7e04e42270c22dad06491061f2"
 },
 "nbformat": 3,
 "nbformat_minor": 0,
 "worksheets": [
  {
   "cells": [
    {
     "cell_type": "heading",
     "level": 1,
     "metadata": {},
     "source": [
      "quant-econ Solutions: Need for Speed"
     ]
    },
    {
     "cell_type": "markdown",
     "metadata": {},
     "source": [
      "Solutions for http://quant-econ.net/need_for_speed.html"
     ]
    },
    {
     "cell_type": "heading",
     "level": 2,
     "metadata": {},
     "source": [
      "Exercise 1"
     ]
    },
    {
     "cell_type": "markdown",
     "metadata": {},
     "source": [
      "Let's start with some imports"
     ]
    },
    {
     "cell_type": "code",
     "collapsed": false,
     "input": [
      "import matplotlib.pyplot as plt\n",
      "import numpy as np\n",
      "from numba import jit"
     ],
     "language": "python",
     "metadata": {},
     "outputs": [],
     "prompt_number": 1
    },
    {
     "cell_type": "markdown",
     "metadata": {},
     "source": [
      "We let \n",
      "\n",
      "* 0 represent \"low\"\n",
      "* 1 represent \"high\""
     ]
    },
    {
     "cell_type": "code",
     "collapsed": false,
     "input": [
      "p, q = 0.1, 0.2  # Prob of leaving low and high state respectively"
     ],
     "language": "python",
     "metadata": {},
     "outputs": [],
     "prompt_number": 2
    },
    {
     "cell_type": "markdown",
     "metadata": {},
     "source": [
      "Here's a pure Python version of the function"
     ]
    },
    {
     "cell_type": "code",
     "collapsed": false,
     "input": [
      "def compute_series(n):\n",
      "    x = np.empty(n, dtype=int)\n",
      "    x[0] = 1  # Start in state 1\n",
      "    U = np.random.uniform(0, 1, size=n)\n",
      "    for t in range(1, n):\n",
      "        current_x = x[t-1]\n",
      "        if current_x == 0:\n",
      "            x[t] = U[t] < p\n",
      "        else:\n",
      "            x[t] = U[t] > q\n",
      "    return x"
     ],
     "language": "python",
     "metadata": {},
     "outputs": [],
     "prompt_number": 3
    },
    {
     "cell_type": "markdown",
     "metadata": {},
     "source": [
      "Let's run this code and check that the fraction of time spent in the low state is about 0.666"
     ]
    },
    {
     "cell_type": "code",
     "collapsed": false,
     "input": [
      "n = 100000\n",
      "x = compute_series(n)\n",
      "print np.mean(x == 0)  # Fraction of time x is in state 0"
     ],
     "language": "python",
     "metadata": {},
     "outputs": [
      {
       "output_type": "stream",
       "stream": "stdout",
       "text": [
        "0.66938\n"
       ]
      }
     ],
     "prompt_number": 4
    },
    {
     "cell_type": "markdown",
     "metadata": {},
     "source": [
      "Now let's time it"
     ]
    },
    {
     "cell_type": "code",
     "collapsed": false,
     "input": [
      "%timeit compute_series(n)"
     ],
     "language": "python",
     "metadata": {},
     "outputs": [
      {
       "output_type": "stream",
       "stream": "stdout",
       "text": [
        "10 loops, best of 3: 111 ms per loop\n"
       ]
      }
     ],
     "prompt_number": 5
    },
    {
     "cell_type": "markdown",
     "metadata": {},
     "source": [
      "Next let's implement a Numba version, which is easy"
     ]
    },
    {
     "cell_type": "code",
     "collapsed": false,
     "input": [
      "compute_series_numba = jit(compute_series)"
     ],
     "language": "python",
     "metadata": {},
     "outputs": [],
     "prompt_number": 6
    },
    {
     "cell_type": "markdown",
     "metadata": {},
     "source": [
      "Let's check we still get the right numbers"
     ]
    },
    {
     "cell_type": "code",
     "collapsed": false,
     "input": [
      "x = compute_series_numba(n)\n",
      "print np.mean(x == 0)"
     ],
     "language": "python",
     "metadata": {},
     "outputs": [
      {
       "output_type": "stream",
       "stream": "stdout",
       "text": [
        "0.66219\n"
       ]
      }
     ],
     "prompt_number": 7
    },
    {
     "cell_type": "markdown",
     "metadata": {},
     "source": [
      "Let's see the time"
     ]
    },
    {
     "cell_type": "code",
     "collapsed": false,
     "input": [
      "%timeit compute_series_numba(n)"
     ],
     "language": "python",
     "metadata": {},
     "outputs": [
      {
       "output_type": "stream",
       "stream": "stdout",
       "text": [
        "100 loops, best of 3: 2.23 ms per loop\n"
       ]
      }
     ],
     "prompt_number": 8
    },
    {
     "cell_type": "markdown",
     "metadata": {},
     "source": [
      "This is a nice speed improvement for one line of code\n",
      "\n",
      "Now let's implement a Cython version"
     ]
    },
    {
     "cell_type": "code",
     "collapsed": false,
     "input": [
      "%load_ext cythonmagic"
     ],
     "language": "python",
     "metadata": {},
     "outputs": [],
     "prompt_number": 9
    },
    {
     "cell_type": "code",
     "collapsed": false,
     "input": [
      "%%cython\n",
      "import numpy as np\n",
      "from numpy cimport int_t, float_t\n",
      "\n",
      "def compute_series_cy(int n):\n",
      "    # == Create NumPy arrays first == #\n",
      "    x_np = np.empty(n, dtype=int)\n",
      "    U_np = np.random.uniform(0, 1, size=n)\n",
      "    # == Now create memoryviews of the arrays == #\n",
      "    cdef int_t [:] x = x_np\n",
      "    cdef float_t [:] U = U_np\n",
      "    # == Other variable declarations == #\n",
      "    cdef float p = 0.1\n",
      "    cdef float q = 0.2\n",
      "    cdef int t\n",
      "    # == Main loop == #\n",
      "    x[0] = 1  \n",
      "    for t in range(1, n):\n",
      "        current_x = x[t-1]\n",
      "        if current_x == 0:\n",
      "            x[t] = U[t] < p\n",
      "        else:\n",
      "            x[t] = U[t] > q\n",
      "    return np.asarray(x)"
     ],
     "language": "python",
     "metadata": {},
     "outputs": [],
     "prompt_number": 10
    },
    {
     "cell_type": "code",
     "collapsed": false,
     "input": [
      "compute_series_cy(10)"
     ],
     "language": "python",
     "metadata": {},
     "outputs": [
      {
       "metadata": {},
       "output_type": "pyout",
       "prompt_number": 11,
       "text": [
        "array([1, 1, 1, 1, 1, 1, 0, 1, 0, 0])"
       ]
      }
     ],
     "prompt_number": 11
    },
    {
     "cell_type": "code",
     "collapsed": false,
     "input": [
      "x = compute_series_cy(n)\n",
      "print np.mean(x == 0)  "
     ],
     "language": "python",
     "metadata": {},
     "outputs": [
      {
       "output_type": "stream",
       "stream": "stdout",
       "text": [
        "0.66576\n"
       ]
      }
     ],
     "prompt_number": 12
    },
    {
     "cell_type": "code",
     "collapsed": false,
     "input": [
      "%timeit compute_series_cy(n)"
     ],
     "language": "python",
     "metadata": {},
     "outputs": [
      {
       "output_type": "stream",
       "stream": "stdout",
       "text": [
        "100 loops, best of 3: 3.16 ms per loop\n"
       ]
      }
     ],
     "prompt_number": 13
    },
    {
     "cell_type": "markdown",
     "metadata": {},
     "source": [
      "The Cython implementation is fast, but not as fast as Numba"
     ]
    },
    {
     "cell_type": "code",
     "collapsed": false,
     "input": [],
     "language": "python",
     "metadata": {},
     "outputs": []
    }
   ],
   "metadata": {}
  }
 ]
}