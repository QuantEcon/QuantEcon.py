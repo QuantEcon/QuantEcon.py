{
 "metadata": {
  "name": "",
  "signature": "sha256:a14e28d6a09204d24c13088dd870b68ceb8657a2df4eeb3a8a57b7c206466421"
 },
 "nbformat": 3,
 "nbformat_minor": 0,
 "worksheets": [
  {
   "cells": [
    {
     "cell_type": "heading",
     "level": 1,
     "metadata": {},
     "source": [
      "quant-econ Solutions: Search with Unknown Offer Distribution"
     ]
    },
    {
     "cell_type": "markdown",
     "metadata": {},
     "source": [
      "Solutions for http://quant-econ.net/odu.html"
     ]
    },
    {
     "cell_type": "code",
     "collapsed": false,
     "input": [
      "%matplotlib inline"
     ],
     "language": "python",
     "metadata": {},
     "outputs": [],
     "prompt_number": 1
    },
    {
     "cell_type": "code",
     "collapsed": false,
     "input": [
      "import numpy as np\n",
      "import matplotlib.pyplot as plt\n",
      "\n",
      "from quantecon import SearchProblem, compute_fixed_point"
     ],
     "language": "python",
     "metadata": {},
     "outputs": [],
     "prompt_number": 2
    },
    {
     "cell_type": "heading",
     "level": 2,
     "metadata": {},
     "source": [
      "Exercise 1"
     ]
    },
    {
     "cell_type": "markdown",
     "metadata": {},
     "source": [
      "\n",
      "This code solves the \"Offer Distribution Unknown\" model by iterating on a guess of the\n",
      "reservation wage function. You should find that the run time is much shorter than that of the value function approach in `odu_vfi.py`\n"
     ]
    },
    {
     "cell_type": "code",
     "collapsed": false,
     "input": [
      "sp = SearchProblem(pi_grid_size=50)\n",
      "\n",
      "phi_init = np.ones(len(sp.pi_grid)) \n",
      "w_bar = compute_fixed_point(sp.res_wage_operator, phi_init)\n",
      "\n",
      "fig, ax = plt.subplots(figsize=(9, 7))\n",
      "ax.plot(sp.pi_grid, w_bar, linewidth=2, color='black')\n",
      "ax.set_ylim(0, 2)\n",
      "ax.grid(axis='x', linewidth=0.25, linestyle='--', color='0.25')\n",
      "ax.grid(axis='y', linewidth=0.25, linestyle='--', color='0.25')\n",
      "ax.fill_between(sp.pi_grid, 0, w_bar, color='blue', alpha=0.15)\n",
      "ax.fill_between(sp.pi_grid, w_bar, 2, color='green', alpha=0.15)\n",
      "ax.text(0.42, 1.2, 'reject')\n",
      "ax.text(0.7, 1.8, 'accept')\n",
      "plt.show()"
     ],
     "language": "python",
     "metadata": {},
     "outputs": [
      {
       "output_type": "stream",
       "stream": "stdout",
       "text": [
        "Computed iterate 1 with error 0.426161\n",
        "Computed iterate 2 with error 0.127050"
       ]
      },
      {
       "output_type": "stream",
       "stream": "stdout",
       "text": [
        "\n",
        "Computed iterate 3 with error 0.076090"
       ]
      },
      {
       "output_type": "stream",
       "stream": "stdout",
       "text": [
        "\n",
        "Computed iterate 4 with error 0.046400"
       ]
      },
      {
       "output_type": "stream",
       "stream": "stdout",
       "text": [
        "\n",
        "Computed iterate 5 with error 0.028295"
       ]
      },
      {
       "output_type": "stream",
       "stream": "stdout",
       "text": [
        "\n",
        "Computed iterate 6 with error 0.018182"
       ]
      },
      {
       "output_type": "stream",
       "stream": "stdout",
       "text": [
        "\n",
        "Computed iterate 7 with error 0.013566"
       ]
      },
      {
       "output_type": "stream",
       "stream": "stdout",
       "text": [
        "\n",
        "Computed iterate 8 with error 0.009611"
       ]
      },
      {
       "output_type": "stream",
       "stream": "stdout",
       "text": [
        "\n",
        "Computed iterate 9 with error 0.007113"
       ]
      },
      {
       "output_type": "stream",
       "stream": "stdout",
       "text": [
        "\n",
        "Computed iterate 10 with error 0.005174"
       ]
      },
      {
       "output_type": "stream",
       "stream": "stdout",
       "text": [
        "\n",
        "Computed iterate 11 with error 0.003732"
       ]
      },
      {
       "output_type": "stream",
       "stream": "stdout",
       "text": [
        "\n",
        "Computed iterate 12 with error 0.002657"
       ]
      },
      {
       "output_type": "stream",
       "stream": "stdout",
       "text": [
        "\n",
        "Computed iterate 13 with error 0.001876"
       ]
      },
      {
       "output_type": "stream",
       "stream": "stdout",
       "text": [
        "\n",
        "Computed iterate 14 with error 0.001348"
       ]
      },
      {
       "output_type": "stream",
       "stream": "stdout",
       "text": [
        "\n",
        "Computed iterate 15 with error 0.000965"
       ]
      },
      {
       "output_type": "stream",
       "stream": "stdout",
       "text": [
        "\n"
       ]
      },
      {
       "metadata": {},
       "output_type": "display_data",
       "png": "[encoded data removed]",
       "text": [
        "<matplotlib.figure.Figure at 0x1024b9d10>"
       ]
      }
     ],
     "prompt_number": 3
    },
    {
     "cell_type": "markdown",
     "metadata": {},
     "source": [
      "The next piece of code is not one of the exercises from quant-econ, it's just a fun simulation to see \n",
      "what the effect of a change in the underlying distribution on the unemployment rate is.\n",
      "\n",
      "At a point in the simulation, the distribution becomes significantly worse.  It takes a while for agents to learn this, and in the meantime they are too optimistic, and turn down too many jobs.  As a result, the unemployment rate spikes.\n",
      "\n",
      "The code takes a few minutes to run."
     ]
    },
    {
     "cell_type": "code",
     "collapsed": false,
     "input": [
      "from scipy import interp\n",
      "# Set up model and compute the function w_bar\n",
      "sp = SearchProblem(pi_grid_size=50, F_a=1, F_b=1)\n",
      "pi_grid, f, g, F, G = sp.pi_grid, sp.f, sp.g, sp.F, sp.G\n",
      "phi_init = np.ones(len(sp.pi_grid)) \n",
      "w_bar_vals = compute_fixed_point(sp.res_wage_operator, phi_init)\n",
      "w_bar = lambda x: interp(x, pi_grid, w_bar_vals)\n",
      "\n",
      "\n",
      "class Agent:\n",
      "    \"\"\"\n",
      "    Holds the employment state and beliefs of an individual agent.\n",
      "    \"\"\"\n",
      "\n",
      "    def __init__(self, pi=1e-3):\n",
      "        self.pi = pi\n",
      "        self.employed = 1\n",
      "\n",
      "    def update(self, H):\n",
      "        \"Update self by drawing wage offer from distribution H.\"\n",
      "        if self.employed == 0:\n",
      "            w = H.rvs()\n",
      "            if w >= w_bar(self.pi):\n",
      "                self.employed = 1\n",
      "            else:\n",
      "                self.pi = 1.0 / (1 + ((1 - self.pi) * g(w)) / (self.pi * f(w)))\n",
      "\n",
      "\n",
      "num_agents = 5000\n",
      "separation_rate = 0.025  # Fraction of jobs that end in each period \n",
      "separation_num = int(num_agents * separation_rate)\n",
      "agent_indices = list(range(num_agents))\n",
      "agents = [Agent() for i in range(num_agents)]\n",
      "sim_length = 600\n",
      "H = G  # Start with distribution G\n",
      "change_date = 200  # Change to F after this many periods\n",
      "\n",
      "unempl_rate = []\n",
      "for i in range(sim_length):\n",
      "    if i % 20 == 0:\n",
      "        print(\"date =\", i)\n",
      "    if i == change_date:\n",
      "        H = F\n",
      "    # Randomly select separation_num agents and set employment status to 0\n",
      "    np.random.shuffle(agent_indices)\n",
      "    separation_list = agent_indices[:separation_num]\n",
      "    for agent_index in separation_list:\n",
      "        agents[agent_index].employed = 0\n",
      "    # Update agents\n",
      "    for agent in agents:\n",
      "        agent.update(H)\n",
      "    employed = [agent.employed for agent in agents]\n",
      "    unempl_rate.append(1 - np.mean(employed))\n",
      "\n",
      "fig, ax = plt.subplots(figsize=(9, 7))\n",
      "ax.plot(unempl_rate, lw=2, alpha=0.8, label='unemployment rate')\n",
      "ax.axvline(change_date, color=\"red\")\n",
      "ax.legend()\n",
      "plt.show()"
     ],
     "language": "python",
     "metadata": {},
     "outputs": [
      {
       "output_type": "stream",
       "stream": "stdout",
       "text": [
        "Computed iterate 1 with error 0.426161\n",
        "Computed iterate 2 with error 0.127050"
       ]
      },
      {
       "output_type": "stream",
       "stream": "stdout",
       "text": [
        "\n",
        "Computed iterate 3 with error 0.076090"
       ]
      },
      {
       "output_type": "stream",
       "stream": "stdout",
       "text": [
        "\n",
        "Computed iterate 4 with error 0.046400"
       ]
      },
      {
       "output_type": "stream",
       "stream": "stdout",
       "text": [
        "\n",
        "Computed iterate 5 with error 0.028295"
       ]
      },
      {
       "output_type": "stream",
       "stream": "stdout",
       "text": [
        "\n",
        "Computed iterate 6 with error 0.018182"
       ]
      },
      {
       "output_type": "stream",
       "stream": "stdout",
       "text": [
        "\n",
        "Computed iterate 7 with error 0.013566"
       ]
      },
      {
       "output_type": "stream",
       "stream": "stdout",
       "text": [
        "\n",
        "Computed iterate 8 with error 0.009611"
       ]
      },
      {
       "output_type": "stream",
       "stream": "stdout",
       "text": [
        "\n",
        "Computed iterate 9 with error 0.007113"
       ]
      },
      {
       "output_type": "stream",
       "stream": "stdout",
       "text": [
        "\n",
        "Computed iterate 10 with error 0.005174"
       ]
      },
      {
       "output_type": "stream",
       "stream": "stdout",
       "text": [
        "\n",
        "Computed iterate 11 with error 0.003732"
       ]
      },
      {
       "output_type": "stream",
       "stream": "stdout",
       "text": [
        "\n",
        "Computed iterate 12 with error 0.002657"
       ]
      },
      {
       "output_type": "stream",
       "stream": "stdout",
       "text": [
        "\n",
        "Computed iterate 13 with error 0.001876"
       ]
      },
      {
       "output_type": "stream",
       "stream": "stdout",
       "text": [
        "\n",
        "Computed iterate 14 with error 0.001348"
       ]
      },
      {
       "output_type": "stream",
       "stream": "stdout",
       "text": [
        "\n",
        "Computed iterate 15 with error 0.000965"
       ]
      },
      {
       "output_type": "stream",
       "stream": "stdout",
       "text": [
        "\n",
        "date =  0\n",
        "date = "
       ]
      },
      {
       "output_type": "stream",
       "stream": "stdout",
       "text": [
        " 20\n",
        "date = "
       ]
      },
      {
       "output_type": "stream",
       "stream": "stdout",
       "text": [
        " 40\n",
        "date = "
       ]
      },
      {
       "output_type": "stream",
       "stream": "stdout",
       "text": [
        " 60\n",
        "date = "
       ]
      },
      {
       "output_type": "stream",
       "stream": "stdout",
       "text": [
        " 80\n",
        "date = "
       ]
      },
      {
       "output_type": "stream",
       "stream": "stdout",
       "text": [
        " 100\n",
        "date = "
       ]
      },
      {
       "output_type": "stream",
       "stream": "stdout",
       "text": [
        " 120\n",
        "date = "
       ]
      },
      {
       "output_type": "stream",
       "stream": "stdout",
       "text": [
        " 140\n",
        "date = "
       ]
      },
      {
       "output_type": "stream",
       "stream": "stdout",
       "text": [
        " 160\n",
        "date = "
       ]
      },
      {
       "output_type": "stream",
       "stream": "stdout",
       "text": [
        " 180\n",
        "date = "
       ]
      },
      {
       "output_type": "stream",
       "stream": "stdout",
       "text": [
        " 200\n",
        "date = "
       ]
      },
      {
       "output_type": "stream",
       "stream": "stdout",
       "text": [
        " 220\n",
        "date = "
       ]
      },
      {
       "output_type": "stream",
       "stream": "stdout",
       "text": [
        " 240\n",
        "date = "
       ]
      },
      {
       "output_type": "stream",
       "stream": "stdout",
       "text": [
        " 260\n",
        "date = "
       ]
      },
      {
       "output_type": "stream",
       "stream": "stdout",
       "text": [
        " 280\n",
        "date = "
       ]
      },
      {
       "output_type": "stream",
       "stream": "stdout",
       "text": [
        " 300\n",
        "date = "
       ]
      },
      {
       "output_type": "stream",
       "stream": "stdout",
       "text": [
        " 320\n",
        "date = "
       ]
      },
      {
       "output_type": "stream",
       "stream": "stdout",
       "text": [
        " 340\n",
        "date = "
       ]
      },
      {
       "output_type": "stream",
       "stream": "stdout",
       "text": [
        " 360\n",
        "date = "
       ]
      },
      {
       "output_type": "stream",
       "stream": "stdout",
       "text": [
        " 380\n",
        "date = "
       ]
      },
      {
       "output_type": "stream",
       "stream": "stdout",
       "text": [
        " 400\n",
        "date = "
       ]
      },
      {
       "output_type": "stream",
       "stream": "stdout",
       "text": [
        " 420\n",
        "date = "
       ]
      },
      {
       "output_type": "stream",
       "stream": "stdout",
       "text": [
        " 440\n",
        "date = "
       ]
      },
      {
       "output_type": "stream",
       "stream": "stdout",
       "text": [
        " 460\n",
        "date = "
       ]
      },
      {
       "output_type": "stream",
       "stream": "stdout",
       "text": [
        " 480\n",
        "date = "
       ]
      },
      {
       "output_type": "stream",
       "stream": "stdout",
       "text": [
        " 500\n",
        "date = "
       ]
      },
      {
       "output_type": "stream",
       "stream": "stdout",
       "text": [
        " 520\n",
        "date = "
       ]
      },
      {
       "output_type": "stream",
       "stream": "stdout",
       "text": [
        " 540\n",
        "date = "
       ]
      },
      {
       "output_type": "stream",
       "stream": "stdout",
       "text": [
        " 560\n",
        "date = "
       ]
      },
      {
       "output_type": "stream",
       "stream": "stdout",
       "text": [
        " 580\n"
       ]
      },
      {
       "metadata": {},
       "output_type": "display_data",
       "png": "[encoded data removed]",
       "text": [
        "<matplotlib.figure.Figure at 0x10b6c7950>"
       ]
      }
     ],
     "prompt_number": 4
    }
   ],
   "metadata": {}
  }
 ]
}