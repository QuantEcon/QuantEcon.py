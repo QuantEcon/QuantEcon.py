{
 "metadata": {
  "name": "",
  "signature": "sha256:7347a7ef4f07cadc33c9634df908547e76c67af39b069c33ea2a9a8d9dbdb588"
 },
 "nbformat": 3,
 "nbformat_minor": 0,
 "worksheets": [
  {
   "cells": [
    {
     "cell_type": "heading",
     "level": 1,
     "metadata": {},
     "source": [
      "quant-econ Solutions: NumPy"
     ]
    },
    {
     "cell_type": "markdown",
     "metadata": {},
     "source": [
      "Solutions for http://quant-econ.net/numpy.html"
     ]
    },
    {
     "cell_type": "markdown",
     "metadata": {},
     "source": [
      "Tell the notebook to display figures embedded in the browser:"
     ]
    },
    {
     "cell_type": "code",
     "collapsed": false,
     "input": [
      "%matplotlib inline"
     ],
     "language": "python",
     "metadata": {},
     "outputs": [],
     "prompt_number": 1
    },
    {
     "cell_type": "markdown",
     "metadata": {},
     "source": [
      "Import numpy and some plotting functionality:"
     ]
    },
    {
     "cell_type": "code",
     "collapsed": false,
     "input": [
      "import numpy as np\n",
      "import matplotlib.pyplot as plt"
     ],
     "language": "python",
     "metadata": {},
     "outputs": [],
     "prompt_number": 2
    },
    {
     "cell_type": "heading",
     "level": 2,
     "metadata": {},
     "source": [
      "Exercise 1"
     ]
    },
    {
     "cell_type": "markdown",
     "metadata": {},
     "source": [
      "This code does the job"
     ]
    },
    {
     "cell_type": "code",
     "collapsed": false,
     "input": [
      "def p(x, coef):\n",
      "    X = np.empty(len(coef))\n",
      "    X[0] = 1\n",
      "    X[1:] = x\n",
      "    y = np.cumprod(X)   # y = [1, x, x**2,...]\n",
      "    return np.dot(coef, y)"
     ],
     "language": "python",
     "metadata": {},
     "outputs": [],
     "prompt_number": 3
    },
    {
     "cell_type": "markdown",
     "metadata": {},
     "source": [
      "Let's test it"
     ]
    },
    {
     "cell_type": "code",
     "collapsed": false,
     "input": [
      "coef = np.ones(3)\n",
      "print(coef)\n",
      "print(p(1, coef))\n",
      "# For comparison\n",
      "q = np.poly1d(coef)\n",
      "print(q(1))"
     ],
     "language": "python",
     "metadata": {},
     "outputs": [
      {
       "output_type": "stream",
       "stream": "stdout",
       "text": [
        "[ 1.  1.  1.]\n",
        "3.0\n",
        "3.0\n"
       ]
      }
     ],
     "prompt_number": 4
    },
    {
     "cell_type": "heading",
     "level": 2,
     "metadata": {},
     "source": [
      "Exercise 2"
     ]
    },
    {
     "cell_type": "markdown",
     "metadata": {},
     "source": [
      "Here's our first pass at a solution:"
     ]
    },
    {
     "cell_type": "code",
     "collapsed": false,
     "input": [
      "from numpy import cumsum\n",
      "from numpy.random import uniform\n",
      "\n",
      "class discreteRV:\n",
      "    \"\"\"\n",
      "    Generates an array of draws from a discrete random variable with vector of\n",
      "    probabilities given by q.  \n",
      "    \"\"\"\n",
      "\n",
      "    def __init__(self, q):\n",
      "        \"\"\"\n",
      "        The argument q is a NumPy array, or array like, nonnegative and sums\n",
      "        to 1\n",
      "        \"\"\"\n",
      "        self.q = q\n",
      "        self.Q = cumsum(q)\n",
      "\n",
      "    def draw(self, k=1):\n",
      "        \"\"\"\n",
      "        Returns k draws from q. For each such draw, the value i is returned\n",
      "        with probability q[i].\n",
      "        \"\"\"\n",
      "        return self.Q.searchsorted(uniform(0, 1, size=k)) "
     ],
     "language": "python",
     "metadata": {},
     "outputs": [],
     "prompt_number": 5
    },
    {
     "cell_type": "markdown",
     "metadata": {},
     "source": [
      "The logic is not obvious, but if you take your time and read it slowly, you will understand\n",
      "\n",
      "There is a problem here, however\n",
      "\n",
      "Suppose that `q` is altered after an instance of `discreteRV` is created, for example by"
     ]
    },
    {
     "cell_type": "code",
     "collapsed": false,
     "input": [
      "q = (0.1, 0.9)\n",
      "d = discreteRV(q)\n",
      "d.q = (0.5, 0.5)"
     ],
     "language": "python",
     "metadata": {},
     "outputs": [],
     "prompt_number": 6
    },
    {
     "cell_type": "markdown",
     "metadata": {},
     "source": [
      "The problem is that `Q` does not change accordingly, and `Q` is the data used in the `draw` method\n",
      "\n",
      "To deal with this, one option is to compute `Q` every time the draw method is called\n",
      "\n",
      "But this is inefficient relative to computing `Q` once off\n",
      "\n",
      "A better option is to use descriptors\n",
      "\n",
      "A solution from the [quantecon library](https://github.com/jstac/quant-econ/tree/master/quantecon) using descriptors that behaves as we desire can be found [here](https://github.com/jstac/quant-econ/blob/master/quantecon/discrete_rv.py)\n"
     ]
    },
    {
     "cell_type": "heading",
     "level": 2,
     "metadata": {},
     "source": [
      "Exercise 3"
     ]
    },
    {
     "cell_type": "markdown",
     "metadata": {},
     "source": [
      "A solution from the [quantecon library](https://github.com/jstac/quant-econ/tree/master/quantecon)  can be found [here](https://github.com/jstac/quant-econ/blob/master/quantecon/ecdf.py)\n",
      "\n",
      "Here's an example of usage"
     ]
    },
    {
     "cell_type": "code",
     "collapsed": false,
     "input": [
      "from quantecon import ECDF\n",
      "F = ECDF(np.random.randn(1000))\n",
      "F.plot()"
     ],
     "language": "python",
     "metadata": {},
     "outputs": [
      {
       "metadata": {},
       "output_type": "display_data",
       "png": "[encoded data removed]",
       "text": [
        "<matplotlib.figure.Figure at 0x107ad8dd0>"
       ]
      }
     ],
     "prompt_number": 7
    }
   ],
   "metadata": {}
  }
 ]
}