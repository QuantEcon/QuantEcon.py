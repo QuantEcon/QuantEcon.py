{
 "metadata": {
  "name": "",
  "signature": "sha256:64f4052833189e82a5e08a5f420c03f35541190523433e0cc861059c15e642b9"
 },
 "nbformat": 3,
 "nbformat_minor": 0,
 "worksheets": [
  {
   "cells": [
    {
     "cell_type": "heading",
     "level": 1,
     "metadata": {},
     "source": [
      "quant-econ Solutions: Pandas"
     ]
    },
    {
     "cell_type": "markdown",
     "metadata": {},
     "source": [
      "Solutions for http://quant-econ.net/pandas.html"
     ]
    },
    {
     "cell_type": "heading",
     "level": 2,
     "metadata": {},
     "source": [
      "Exercise 1"
     ]
    },
    {
     "cell_type": "markdown",
     "metadata": {},
     "source": [
      "Show the plot inline in the browser:"
     ]
    },
    {
     "cell_type": "code",
     "collapsed": false,
     "input": [
      "%matplotlib inline"
     ],
     "language": "python",
     "metadata": {},
     "outputs": [],
     "prompt_number": 1
    },
    {
     "cell_type": "markdown",
     "metadata": {},
     "source": [
      "Run some imports:"
     ]
    },
    {
     "cell_type": "code",
     "collapsed": false,
     "input": [
      "import numpy as np\n",
      "import pandas as pd\n",
      "import datetime as dt\n",
      "import pandas.io.data as web\n",
      "import matplotlib.pyplot as plt"
     ],
     "language": "python",
     "metadata": {},
     "outputs": [],
     "prompt_number": 2
    },
    {
     "cell_type": "markdown",
     "metadata": {},
     "source": [
      "Now the main code"
     ]
    },
    {
     "cell_type": "code",
     "collapsed": false,
     "input": [
      "ticker_list = {'INTC': 'Intel',\n",
      "               'MSFT': 'Microsoft',\n",
      "               'IBM': 'IBM',\n",
      "               'BHP': 'BHP',\n",
      "               'RSH': 'RadioShack',\n",
      "               'TM': 'Toyota',\n",
      "               'AAPL': 'Apple',\n",
      "               'AMZN': 'Amazon',\n",
      "               'BA': 'Boeing',\n",
      "               'QCOM': 'Qualcomm',\n",
      "               'KO': 'Coca-Cola',\n",
      "               'GOOG': 'Google',\n",
      "               'SNE': 'Sony',\n",
      "               'PTR': 'PetroChina'}\n",
      "\n",
      "start = dt.datetime(2013, 1, 1)\n",
      "end = dt.datetime.today()\n",
      "\n",
      "price_change = {}\n",
      "\n",
      "for ticker in ticker_list:\n",
      "    prices = web.DataReader(ticker, 'yahoo', start, end)\n",
      "    closing_prices = prices['Close']\n",
      "    change = 100 * (closing_prices[-1] - closing_prices[0]) / closing_prices[0]\n",
      "    name = ticker_list[ticker]\n",
      "    price_change[name] = change\n",
      "\n",
      "pc = pd.Series(price_change)\n",
      "pc.sort()\n",
      "fig, ax = plt.subplots(figsize=(10,8))\n",
      "pc.plot(kind='bar', ax=ax)"
     ],
     "language": "python",
     "metadata": {},
     "outputs": [
      {
       "metadata": {},
       "output_type": "pyout",
       "prompt_number": 3,
       "text": [
        "<matplotlib.axes.AxesSubplot at 0x10a921150>"
       ]
      },
      {
       "metadata": {},
       "output_type": "display_data",
       "png": "[encoded data removed]",
       "text": [
        "<matplotlib.figure.Figure at 0x10a921e50>"
       ]
      }
     ],
     "prompt_number": 3
    }
   ],
   "metadata": {}
  }
 ]
}