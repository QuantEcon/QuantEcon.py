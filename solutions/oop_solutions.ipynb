{
 "metadata": {
  "name": "",
  "signature": "sha256:d089198ebef3aba86ce4dea83f01f57213580f006553196b428d0f4ee6ce7bc9"
 },
 "nbformat": 3,
 "nbformat_minor": 0,
 "worksheets": [
  {
   "cells": [
    {
     "cell_type": "heading",
     "level": 1,
     "metadata": {},
     "source": [
      "quant-econ Solutions: Object Oriented Programming"
     ]
    },
    {
     "cell_type": "markdown",
     "metadata": {},
     "source": [
      "Solutions for http://quant-econ.net/python_oop.html"
     ]
    },
    {
     "cell_type": "heading",
     "level": 2,
     "metadata": {},
     "source": [
      "Exercise 1"
     ]
    },
    {
     "cell_type": "code",
     "collapsed": false,
     "input": [
      "class ECDF:\n",
      "\n",
      "    def __init__(self, observations):\n",
      "        self.observations = observations\n",
      "\n",
      "    def __call__(self, x):\n",
      "        counter = 0.0\n",
      "        for obs in self.observations:\n",
      "            if obs <= x:\n",
      "                counter += 1\n",
      "        return counter / len(self.observations)\n",
      "\n"
     ],
     "language": "python",
     "metadata": {},
     "outputs": [],
     "prompt_number": 1
    },
    {
     "cell_type": "code",
     "collapsed": false,
     "input": [
      "# == test == #\n",
      "\n",
      "from random import uniform\n",
      "samples = [uniform(0, 1) for i in range(10)]\n",
      "F = ECDF(samples)\n",
      "\n",
      "print F(0.5)  # Evaluate ecdf at x = 0.5\n",
      "\n",
      "F.observations = [uniform(0, 1) for i in range(1000)]\n",
      "\n",
      "print F(0.5)"
     ],
     "language": "python",
     "metadata": {},
     "outputs": [
      {
       "output_type": "stream",
       "stream": "stdout",
       "text": [
        "0.2\n",
        "0.519\n"
       ]
      }
     ],
     "prompt_number": 2
    },
    {
     "cell_type": "heading",
     "level": 2,
     "metadata": {},
     "source": [
      "Exercise 2"
     ]
    },
    {
     "cell_type": "code",
     "collapsed": false,
     "input": [
      "class Polynomial:\n",
      "\n",
      "    def __init__(self, coefficients):\n",
      "        \"\"\"\n",
      "        Creates an instance of the Polynomial class representing \n",
      "\n",
      "            p(x) = a_0 x^0 + ... + a_N x^N, \n",
      "            \n",
      "        where a_i = coefficients[i].\n",
      "        \"\"\"\n",
      "        self.coefficients = coefficients\n",
      "\n",
      "    def __call__(self, x):\n",
      "        \"Evaluate the polynomial at x.\"\n",
      "        y = 0\n",
      "        for i, a in enumerate(self.coefficients):\n",
      "            y += a * x**i  \n",
      "        return y\n",
      "\n",
      "    def differentiate(self):\n",
      "        \"Reset self.coefficients to those of p' instead of p.\"\n",
      "        new_coefficients = []\n",
      "        for i, a in enumerate(self.coefficients):\n",
      "            new_coefficients.append(i * a)\n",
      "        # Remove the first element, which is zero\n",
      "        del new_coefficients[0]  \n",
      "        # And reset coefficients data to new values\n",
      "        self.coefficients = new_coefficients\n",
      "\n"
     ],
     "language": "python",
     "metadata": {},
     "outputs": [],
     "prompt_number": 3
    },
    {
     "cell_type": "code",
     "collapsed": false,
     "input": [],
     "language": "python",
     "metadata": {},
     "outputs": []
    }
   ],
   "metadata": {}
  }
 ]
}