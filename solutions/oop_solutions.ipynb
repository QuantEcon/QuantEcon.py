{
 "metadata": {
  "name": "",
  "signature": "sha256:39099b5d6503621c4076c7a6bd2ec02bc59c2747a07ebb54a8b27f1175ed52d6"
 },
 "nbformat": 3,
 "nbformat_minor": 0,
 "worksheets": [
  {
   "cells": [
    {
     "cell_type": "heading",
     "level": 1,
     "metadata": {},
     "source": [
      "quant-econ Solutions: Object Oriented Programming"
     ]
    },
    {
     "cell_type": "markdown",
     "metadata": {},
     "source": [
      "Solutions for http://quant-econ.net/python_oop.html"
     ]
    },
    {
     "cell_type": "heading",
     "level": 2,
     "metadata": {},
     "source": [
      "Exercise 1"
     ]
    },
    {
     "cell_type": "code",
     "collapsed": false,
     "input": [
      "class ECDF(object):\n",
      "\n",
      "    def __init__(self, observations):\n",
      "        self.observations = observations\n",
      "\n",
      "    def __call__(self, x):\n",
      "        counter = 0.0\n",
      "        for obs in self.observations:\n",
      "            if obs <= x:\n",
      "                counter += 1\n",
      "        return counter / len(self.observations)"
     ],
     "language": "python",
     "metadata": {},
     "outputs": [],
     "prompt_number": 1
    },
    {
     "cell_type": "code",
     "collapsed": false,
     "input": [
      "# == test == #\n",
      "\n",
      "from random import uniform\n",
      "samples = [uniform(0, 1) for i in range(10)]\n",
      "F = ECDF(samples)\n",
      "\n",
      "print(F(0.5))  # Evaluate ecdf at x = 0.5\n",
      "\n",
      "F.observations = [uniform(0, 1) for i in range(1000)]\n",
      "\n",
      "print(F(0.5))"
     ],
     "language": "python",
     "metadata": {},
     "outputs": [
      {
       "output_type": "stream",
       "stream": "stdout",
       "text": [
        "0.5\n",
        "0.486\n"
       ]
      }
     ],
     "prompt_number": 2
    },
    {
     "cell_type": "heading",
     "level": 2,
     "metadata": {},
     "source": [
      "Exercise 2"
     ]
    },
    {
     "cell_type": "code",
     "collapsed": false,
     "input": [
      "class Polynomial(object):\n",
      "\n",
      "    def __init__(self, coefficients):\n",
      "        \"\"\"\n",
      "        Creates an instance of the Polynomial class representing \n",
      "\n",
      "            p(x) = a_0 x^0 + ... + a_N x^N, \n",
      "            \n",
      "        where a_i = coefficients[i].\n",
      "        \"\"\"\n",
      "        self.coefficients = coefficients\n",
      "\n",
      "    def __call__(self, x):\n",
      "        \"Evaluate the polynomial at x.\"\n",
      "        y = 0\n",
      "        for i, a in enumerate(self.coefficients):\n",
      "            y += a * x**i  \n",
      "        return y\n",
      "\n",
      "    def differentiate(self):\n",
      "        \"Reset self.coefficients to those of p' instead of p.\"\n",
      "        new_coefficients = []\n",
      "        for i, a in enumerate(self.coefficients):\n",
      "            new_coefficients.append(i * a)\n",
      "        # Remove the first element, which is zero\n",
      "        del new_coefficients[0]  \n",
      "        # And reset coefficients data to new values\n",
      "        self.coefficients = new_coefficients\n"
     ],
     "language": "python",
     "metadata": {},
     "outputs": [],
     "prompt_number": 3
    }
   ],
   "metadata": {}
  }
 ]
}