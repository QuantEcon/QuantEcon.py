{
 "metadata": {
  "name": "",
  "signature": "sha256:82cc5fd47be21d7d71af2f81216c36ec39174f92cc1b2ccec26991f1f7e92dbc"
 },
 "nbformat": 3,
 "nbformat_minor": 0,
 "worksheets": [
  {
   "cells": [
    {
     "cell_type": "heading",
     "level": 1,
     "metadata": {},
     "source": [
      "quant-econ Solutions: Modeling Career Choice"
     ]
    },
    {
     "cell_type": "markdown",
     "metadata": {},
     "source": [
      "Solutions for http://quant-econ.net/career.html"
     ]
    },
    {
     "cell_type": "code",
     "collapsed": false,
     "input": [
      "%matplotlib inline"
     ],
     "language": "python",
     "metadata": {},
     "outputs": [],
     "prompt_number": 1
    },
    {
     "cell_type": "code",
     "collapsed": false,
     "input": [
      "import numpy as np\n",
      "import matplotlib.pyplot as plt\n",
      "from quantecon import DiscreteRV, CareerWorkerProblem, compute_fixed_point"
     ],
     "language": "python",
     "metadata": {},
     "outputs": [],
     "prompt_number": 2
    },
    {
     "cell_type": "heading",
     "level": 2,
     "metadata": {},
     "source": [
      "Exercise 1"
     ]
    },
    {
     "cell_type": "markdown",
     "metadata": {},
     "source": [
      "\n",
      "Simulate job / career paths.  \n",
      "\n",
      "In reading the code, recall that `optimal_policy[i, j]` = policy at\n",
      "$(\\theta_i, \\epsilon_j)$ = either 1, 2 or 3; meaning 'stay put', 'new job' and\n",
      "'new life'.\n",
      "\n"
     ]
    },
    {
     "cell_type": "code",
     "collapsed": false,
     "input": [
      "wp = CareerWorkerProblem()\n",
      "v_init = np.ones((wp.N, wp.N))*100\n",
      "v = compute_fixed_point(wp.bellman, v_init, verbose=False)\n",
      "optimal_policy = wp.get_greedy(v)\n",
      "F = DiscreteRV(wp.F_probs)\n",
      "G = DiscreteRV(wp.G_probs)\n",
      "\n",
      "def gen_path(T=20):\n",
      "    i = j = 0  \n",
      "    theta_index = []\n",
      "    epsilon_index = []\n",
      "    for t in range(T):\n",
      "        if optimal_policy[i, j] == 1:    # Stay put\n",
      "            pass\n",
      "        elif optimal_policy[i, j] == 2:  # New job\n",
      "            j = int(G.draw())\n",
      "        else:                            # New life\n",
      "            i, j  = int(F.draw()), int(G.draw())\n",
      "        theta_index.append(i)\n",
      "        epsilon_index.append(j)\n",
      "    return wp.theta[theta_index], wp.epsilon[epsilon_index]\n",
      "\n",
      "theta_path, epsilon_path = gen_path()\n",
      "\n",
      "fig, axes = plt.subplots(2, 1, figsize=(10, 8))\n",
      "for ax in axes:\n",
      "    ax.plot(epsilon_path, label='epsilon')\n",
      "    ax.plot(theta_path, label='theta')\n",
      "    ax.legend(loc='lower right')\n",
      "\n",
      "plt.show()\n",
      "\n"
     ],
     "language": "python",
     "metadata": {},
     "outputs": [
      {
       "metadata": {},
       "output_type": "display_data",
       "png": "[encoded data removed]",
       "text": [
        "<matplotlib.figure.Figure at 0x7f47ebd90f90>"
       ]
      }
     ],
     "prompt_number": 4
    },
    {
     "cell_type": "heading",
     "level": 2,
     "metadata": {},
     "source": [
      "Exercise 2"
     ]
    },
    {
     "cell_type": "markdown",
     "metadata": {},
     "source": [
      "The median for the original parameterization can be computed as follows"
     ]
    },
    {
     "cell_type": "code",
     "collapsed": false,
     "input": [
      "\n",
      "wp = CareerWorkerProblem()\n",
      "v_init = np.ones((wp.N, wp.N))*100\n",
      "v = compute_fixed_point(wp.bellman, v_init)\n",
      "optimal_policy = wp.get_greedy(v)\n",
      "F = DiscreteRV(wp.F_probs)\n",
      "G = DiscreteRV(wp.G_probs)\n",
      "\n",
      "def gen_first_passage_time():\n",
      "    t = 0\n",
      "    i = j = 0\n",
      "    while 1:\n",
      "        if optimal_policy[i, j] == 1:    # Stay put\n",
      "            return t\n",
      "        elif optimal_policy[i, j] == 2:  # New job\n",
      "            j = int(G.draw())\n",
      "        else:                            # New life\n",
      "            i, j  = int(F.draw()), int(G.draw())\n",
      "        t += 1\n",
      "\n",
      "M = 25000 # Number of samples\n",
      "samples = np.empty(M)\n",
      "for i in range(M): \n",
      "    samples[i] = gen_first_passage_time()\n",
      "print np.median(samples)\n"
     ],
     "language": "python",
     "metadata": {},
     "outputs": [
      {
       "output_type": "stream",
       "stream": "stdout",
       "text": [
        "Computed iterate 1 with error 5.000000\n",
        "Computed iterate 2 with error 4.750000\n",
        "Computed iterate 3 with error 4.512500\n",
        "Computed iterate 4 with error 4.286875"
       ]
      },
      {
       "output_type": "stream",
       "stream": "stdout",
       "text": [
        "\n",
        "Computed iterate 5 with error 4.072531\n",
        "Computed iterate 6 with error 3.868905"
       ]
      },
      {
       "output_type": "stream",
       "stream": "stdout",
       "text": [
        "\n",
        "Computed iterate 7 with error 3.675459\n",
        "Computed iterate 8 with error 3.491686"
       ]
      },
      {
       "output_type": "stream",
       "stream": "stdout",
       "text": [
        "\n",
        "Computed iterate 9 with error 3.317102\n",
        "Computed iterate 10 with error 3.151247"
       ]
      },
      {
       "output_type": "stream",
       "stream": "stdout",
       "text": [
        "\n",
        "Computed iterate 11 with error 2.993685\n",
        "Computed iterate 12 with error 2.844000"
       ]
      },
      {
       "output_type": "stream",
       "stream": "stdout",
       "text": [
        "\n",
        "Computed iterate 13 with error 2.701800\n",
        "Computed iterate 14 with error 2.566710"
       ]
      },
      {
       "output_type": "stream",
       "stream": "stdout",
       "text": [
        "\n",
        "Computed iterate 15 with error 2.438375\n",
        "Computed iterate 16 with error 2.316456\n",
        "Computed iterate 17 with error 2.200633"
       ]
      },
      {
       "output_type": "stream",
       "stream": "stdout",
       "text": [
        "\n",
        "Computed iterate 18 with error 2.090602\n",
        "Computed iterate 19 with error 1.986072"
       ]
      },
      {
       "output_type": "stream",
       "stream": "stdout",
       "text": [
        "\n",
        "Computed iterate 20 with error 1.886768\n",
        "Computed iterate 21 with error 1.792430"
       ]
      },
      {
       "output_type": "stream",
       "stream": "stdout",
       "text": [
        "\n",
        "Computed iterate 22 with error 1.702808\n",
        "Computed iterate 23 with error 1.617668\n",
        "Computed iterate 24 with error 1.536784"
       ]
      },
      {
       "output_type": "stream",
       "stream": "stdout",
       "text": [
        "\n",
        "Computed iterate 25 with error 1.459945\n",
        "Computed iterate 26 with error 1.386948"
       ]
      },
      {
       "output_type": "stream",
       "stream": "stdout",
       "text": [
        "\n",
        "Computed iterate 27 with error 1.317600\n",
        "Computed iterate 28 with error 1.251720"
       ]
      },
      {
       "output_type": "stream",
       "stream": "stdout",
       "text": [
        "\n",
        "Computed iterate 29 with error 1.189134\n",
        "Computed iterate 30 with error 1.129678"
       ]
      },
      {
       "output_type": "stream",
       "stream": "stdout",
       "text": [
        "\n",
        "Computed iterate 31 with error 1.073194\n",
        "Computed iterate 32 with error 1.019534"
       ]
      },
      {
       "output_type": "stream",
       "stream": "stdout",
       "text": [
        "\n",
        "Computed iterate 33 with error 0.968557\n",
        "Computed iterate 34 with error 0.920130"
       ]
      },
      {
       "output_type": "stream",
       "stream": "stdout",
       "text": [
        "\n",
        "Computed iterate 35 with error 0.874123\n",
        "Computed iterate 36 with error 0.830417"
       ]
      },
      {
       "output_type": "stream",
       "stream": "stdout",
       "text": [
        "\n",
        "Computed iterate 37 with error 0.788896\n",
        "Computed iterate 38 with error 0.749451"
       ]
      },
      {
       "output_type": "stream",
       "stream": "stdout",
       "text": [
        "\n",
        "Computed iterate 39 with error 0.711979\n",
        "Computed iterate 40 with error 0.676380"
       ]
      },
      {
       "output_type": "stream",
       "stream": "stdout",
       "text": [
        "\n",
        "Computed iterate 41 with error 0.642561\n",
        "Computed iterate 42 with error 0.610433\n"
       ]
      },
      {
       "output_type": "stream",
       "stream": "stdout",
       "text": [
        "Computed iterate 43 with error 0.579911\n",
        "Computed iterate 44 with error 0.550916\n",
        "Computed iterate 45 with error 0.523370\n",
        "Computed iterate 46 with error 0.497201"
       ]
      },
      {
       "output_type": "stream",
       "stream": "stdout",
       "text": [
        "\n",
        "Computed iterate 47 with error 0.472341\n",
        "Computed iterate 48 with error 0.448724"
       ]
      },
      {
       "output_type": "stream",
       "stream": "stdout",
       "text": [
        "\n",
        "Computed iterate 49 with error 0.426288\n",
        "Computed iterate 50 with error 0.404974\n",
        "7.0"
       ]
      },
      {
       "output_type": "stream",
       "stream": "stdout",
       "text": [
        "\n"
       ]
      }
     ],
     "prompt_number": 6
    },
    {
     "cell_type": "markdown",
     "metadata": {},
     "source": [
      "To compute the median with $\\beta=0.99$ instead of the default value $\\beta=0.95$,\n",
      "replace `wp = CareerWorkerProblem()` with `wp = CareerWorkerProblem(beta=0.99)`\n",
      "\n",
      "The medians are subject to randomness, but should be about 7 and 11\n",
      "respectively.  Not surprisingly, more patient workers will wait longer to settle down to their final job\n",
      "\n"
     ]
    },
    {
     "cell_type": "heading",
     "level": 2,
     "metadata": {},
     "source": [
      "Exercise 3"
     ]
    },
    {
     "cell_type": "markdown",
     "metadata": {},
     "source": [
      "Here\u2019s the code to reproduce the original figure"
     ]
    },
    {
     "cell_type": "code",
     "collapsed": false,
     "input": [
      "from matplotlib import cm\n",
      "\n",
      "wp = CareerWorkerProblem()\n",
      "v_init = np.ones((wp.N, wp.N))*100\n",
      "v = compute_fixed_point(wp.bellman, v_init)\n",
      "optimal_policy = wp.get_greedy(v)\n",
      "\n",
      "fig, ax = plt.subplots(figsize=(6,6))\n",
      "tg, eg = np.meshgrid(wp.theta, wp.epsilon)\n",
      "lvls=(0.5, 1.5, 2.5, 3.5)\n",
      "ax.contourf(tg, eg, optimal_policy.T, levels=lvls, cmap=cm.winter, alpha=0.5)\n",
      "ax.contour(tg, eg, optimal_policy.T, colors='k', levels=lvls, linewidths=2)\n",
      "ax.set_xlabel('theta', fontsize=14)\n",
      "ax.set_ylabel('epsilon', fontsize=14)\n",
      "ax.text(1.8, 2.5, 'new life', fontsize=14)\n",
      "ax.text(4.5, 2.5, 'new job', fontsize=14, rotation='vertical')\n",
      "ax.text(4.0, 4.5, 'stay put', fontsize=14)\n",
      "\n"
     ],
     "language": "python",
     "metadata": {},
     "outputs": [
      {
       "output_type": "stream",
       "stream": "stdout",
       "text": [
        "Computed iterate 1 with error 5.000000\n",
        "Computed iterate 2 with error 4.750000\n",
        "Computed iterate 3 with error 4.512500\n",
        "Computed iterate 4 with error 4.286875"
       ]
      },
      {
       "output_type": "stream",
       "stream": "stdout",
       "text": [
        "\n",
        "Computed iterate 5 with error 4.072531\n",
        "Computed iterate 6 with error 3.868905"
       ]
      },
      {
       "output_type": "stream",
       "stream": "stdout",
       "text": [
        "\n",
        "Computed iterate 7 with error 3.675459\n",
        "Computed iterate 8 with error 3.491686"
       ]
      },
      {
       "output_type": "stream",
       "stream": "stdout",
       "text": [
        "\n",
        "Computed iterate 9 with error 3.317102\n",
        "Computed iterate 10 with error 3.151247\n",
        "Computed iterate 11 with error 2.993685"
       ]
      },
      {
       "output_type": "stream",
       "stream": "stdout",
       "text": [
        "\n",
        "Computed iterate 12 with error 2.844000\n",
        "Computed iterate 13 with error 2.701800\n",
        "Computed iterate 14 with error 2.566710"
       ]
      },
      {
       "output_type": "stream",
       "stream": "stdout",
       "text": [
        "\n",
        "Computed iterate 15 with error 2.438375\n",
        "Computed iterate 16 with error 2.316456\n",
        "Computed iterate 17 with error 2.200633"
       ]
      },
      {
       "output_type": "stream",
       "stream": "stdout",
       "text": [
        "\n",
        "Computed iterate 18 with error 2.090602\n",
        "Computed iterate 19 with error 1.986072\n",
        "Computed iterate 20 with error 1.886768"
       ]
      },
      {
       "output_type": "stream",
       "stream": "stdout",
       "text": [
        "\n",
        "Computed iterate 21 with error 1.792430\n",
        "Computed iterate 22 with error 1.702808\n",
        "Computed iterate 23 with error 1.617668"
       ]
      },
      {
       "output_type": "stream",
       "stream": "stdout",
       "text": [
        "\n",
        "Computed iterate 24 with error 1.536784\n",
        "Computed iterate 25 with error 1.459945\n",
        "Computed iterate 26 with error 1.386948"
       ]
      },
      {
       "output_type": "stream",
       "stream": "stdout",
       "text": [
        "\n",
        "Computed iterate 27 with error 1.317600\n",
        "Computed iterate 28 with error 1.251720\n",
        "Computed iterate 29 with error 1.189134"
       ]
      },
      {
       "output_type": "stream",
       "stream": "stdout",
       "text": [
        "\n",
        "Computed iterate 30 with error 1.129678\n",
        "Computed iterate 31 with error 1.073194\n",
        "Computed iterate 32 with error 1.019534"
       ]
      },
      {
       "output_type": "stream",
       "stream": "stdout",
       "text": [
        "\n",
        "Computed iterate 33 with error 0.968557\n",
        "Computed iterate 34 with error 0.920130\n",
        "Computed iterate 35 with error 0.874123"
       ]
      },
      {
       "output_type": "stream",
       "stream": "stdout",
       "text": [
        "\n",
        "Computed iterate 36 with error 0.830417\n",
        "Computed iterate 37 with error 0.788896\n",
        "Computed iterate 38 with error 0.749451"
       ]
      },
      {
       "output_type": "stream",
       "stream": "stdout",
       "text": [
        "\n",
        "Computed iterate 39 with error 0.711979\n",
        "Computed iterate 40 with error 0.676380\n",
        "Computed iterate 41 with error 0.642561"
       ]
      },
      {
       "output_type": "stream",
       "stream": "stdout",
       "text": [
        "\n",
        "Computed iterate 42 with error 0.610433\n",
        "Computed iterate 43 with error 0.579911\n",
        "Computed iterate 44 with error 0.550916"
       ]
      },
      {
       "output_type": "stream",
       "stream": "stdout",
       "text": [
        "\n",
        "Computed iterate 45 with error 0.523370\n",
        "Computed iterate 46 with error 0.497201\n",
        "Computed iterate 47 with error 0.472341"
       ]
      },
      {
       "output_type": "stream",
       "stream": "stdout",
       "text": [
        "\n",
        "Computed iterate 48 with error 0.448724\n",
        "Computed iterate 49 with error 0.426288\n",
        "Computed iterate 50 with error 0.404974"
       ]
      },
      {
       "output_type": "stream",
       "stream": "stdout",
       "text": [
        "\n"
       ]
      },
      {
       "metadata": {},
       "output_type": "pyout",
       "prompt_number": 9,
       "text": [
        "<matplotlib.text.Text at 0x409cdd0>"
       ]
      },
      {
       "metadata": {},
       "output_type": "display_data",
       "png": "[encoded data removed]",
       "text": [
        "<matplotlib.figure.Figure at 0x4621d10>"
       ]
      }
     ],
     "prompt_number": 9
    },
    {
     "cell_type": "markdown",
     "metadata": {},
     "source": [
      "Now we want to set `G_a = G_b = 100` and generate a new figure with these parameters. \n",
      "\n",
      "To do this replace:\n",
      "\n",
      "    wp = CareerWorkerProblem()\n",
      "\n",
      "with:\n",
      "\n",
      "    wp = CareerWorkerProblem(G_a=100, G_b=100)\n",
      "\n",
      "In the new figure, you will see that the region for which the worker will stay put has grown because the distribution for $\\epsilon$ has become more concentrated around the mean, making high-paying jobs less realistic\n"
     ]
    },
    {
     "cell_type": "code",
     "collapsed": false,
     "input": [],
     "language": "python",
     "metadata": {},
     "outputs": []
    }
   ],
   "metadata": {}
  }
 ]
}