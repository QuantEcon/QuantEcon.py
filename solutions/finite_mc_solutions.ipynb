{
 "metadata": {
  "name": "",
  "signature": "sha256:632687cdb09a3b31c733653b7cd343891ed8e8d4ccdfa934ce9ff12d549c656e"
 },
 "nbformat": 3,
 "nbformat_minor": 0,
 "worksheets": [
  {
   "cells": [
    {
     "cell_type": "heading",
     "level": 1,
     "metadata": {},
     "source": [
      "quant-econ Solutions: Finite Markov Chains"
     ]
    },
    {
     "cell_type": "markdown",
     "metadata": {},
     "source": [
      "Solutions for http://quant-econ.net/finite_markov.html"
     ]
    },
    {
     "cell_type": "code",
     "collapsed": false,
     "input": [
      "%matplotlib inline"
     ],
     "language": "python",
     "metadata": {},
     "outputs": [],
     "prompt_number": 1
    },
    {
     "cell_type": "code",
     "collapsed": false,
     "input": [
      "from __future__ import print_function, division  # Omit for Python 3.x\n",
      "import numpy as np\n",
      "import matplotlib.pyplot as plt\n",
      "from quantecon import mc_compute_stationary, mc_sample_path\n"
     ],
     "language": "python",
     "metadata": {},
     "outputs": [],
     "prompt_number": 2
    },
    {
     "cell_type": "heading",
     "level": 2,
     "metadata": {},
     "source": [
      "Exercise 1"
     ]
    },
    {
     "cell_type": "markdown",
     "metadata": {},
     "source": [
      "\n",
      "Compute the fraction of time that the worker spends unemployed,\n",
      "and compare it to the stationary probability.\n"
     ]
    },
    {
     "cell_type": "code",
     "collapsed": false,
     "input": [
      "\n",
      "alpha = beta = 0.1\n",
      "N = 10000\n",
      "p = beta / (alpha + beta)\n",
      "\n",
      "P = ((1 - alpha, alpha),   # Careful: P and p are distinct\n",
      "     (beta, 1 - beta))\n",
      "P = np.array(P)\n",
      "\n",
      "fig, ax = plt.subplots(figsize=(9, 6))\n",
      "ax.set_ylim(-0.25, 0.25)\n",
      "ax.grid()\n",
      "ax.hlines(0, 0, N, lw=2, alpha=0.6)  # Horizonal line at zero\n",
      "\n",
      "for x0, col in ((0, 'blue'), (1, 'green')):\n",
      "    # == Generate time series for worker that starts at x0 == #\n",
      "    X = mc_sample_path(P, x0, N)\n",
      "    # == Compute fraction of time spent unemployed, for each n == #\n",
      "    X_bar = (X == 0).cumsum() / (1 + np.arange(N, dtype=float)) \n",
      "    # == Plot == #\n",
      "    ax.fill_between(range(N), np.zeros(N), X_bar - p, color=col, alpha=0.1)\n",
      "    ax.plot(X_bar - p, color=col, label=r'$X_0 = \\, {} $'.format(x0))\n",
      "    ax.plot(X_bar - p, 'k-', alpha=0.6)  # Overlay in black--make lines clearer\n",
      "\n",
      "ax.legend(loc='upper right')\n",
      "\n"
     ],
     "language": "python",
     "metadata": {},
     "outputs": [
      {
       "metadata": {},
       "output_type": "pyout",
       "prompt_number": 3,
       "text": [
        "<matplotlib.legend.Legend at 0x10ae1bf50>"
       ]
      },
      {
       "metadata": {},
       "output_type": "display_data",
       "png": "[encoded data removed]",
       "text": [
        "<matplotlib.figure.Figure at 0x10adaa190>"
       ]
      }
     ],
     "prompt_number": 3
    },
    {
     "cell_type": "heading",
     "level": 2,
     "metadata": {},
     "source": [
      "Exercise 2"
     ]
    },
    {
     "cell_type": "markdown",
     "metadata": {},
     "source": [
      "First save the data into a file called `web_graph_data.txt` by executing the next cell"
     ]
    },
    {
     "cell_type": "code",
     "collapsed": false,
     "input": [
      "%%file web_graph_data.txt\n",
      "a -> d;\n",
      "a -> f;\n",
      "b -> j;\n",
      "b -> k;\n",
      "b -> m;\n",
      "c -> c;\n",
      "c -> g;\n",
      "c -> j;\n",
      "c -> m;\n",
      "d -> f;\n",
      "d -> h;\n",
      "d -> k;\n",
      "e -> d;\n",
      "e -> h;\n",
      "e -> l;\n",
      "f -> a;\n",
      "f -> b;\n",
      "f -> j;\n",
      "f -> l;\n",
      "g -> b;\n",
      "g -> j;\n",
      "h -> d;\n",
      "h -> g;\n",
      "h -> l;\n",
      "h -> m;\n",
      "i -> g;\n",
      "i -> h;\n",
      "i -> n;\n",
      "j -> e;\n",
      "j -> i;\n",
      "j -> k;\n",
      "k -> n;\n",
      "l -> m;\n",
      "m -> g;\n",
      "n -> c;\n",
      "n -> j;\n",
      "n -> m;\n"
     ],
     "language": "python",
     "metadata": {},
     "outputs": [
      {
       "output_type": "stream",
       "stream": "stdout",
       "text": [
        "Overwriting web_graph_data.txt\n"
       ]
      }
     ],
     "prompt_number": 4
    },
    {
     "cell_type": "code",
     "collapsed": false,
     "input": [
      "\"\"\"\n",
      "Return list of pages, ordered by rank\n",
      "\"\"\"\n",
      "import numpy as np\n",
      "from operator import itemgetter\n",
      "import re\n",
      "\n",
      "infile = 'web_graph_data.txt'\n",
      "alphabet = 'abcdefghijklmnopqrstuvwxyz'\n",
      "\n",
      "n = 14 # Total number of web pages (nodes)\n",
      "\n",
      "# == Create a matrix Q indicating existence of links == #\n",
      "#  * Q[i, j] = 1 if there is a link from i to j\n",
      "#  * Q[i, j] = 0 otherwise\n",
      "Q = np.zeros((n, n), dtype=int)\n",
      "f = open(infile, 'r')\n",
      "edges = f.readlines()\n",
      "f.close()\n",
      "for edge in edges:\n",
      "    from_node, to_node = re.findall('\\w', edge)\n",
      "    i, j = alphabet.index(from_node), alphabet.index(to_node)\n",
      "    Q[i, j] = 1\n",
      "# == Create the corresponding Markov matrix P == #\n",
      "P = np.empty((n, n))\n",
      "for i in range(n):\n",
      "    P[i,:] = Q[i,:] / Q[i,:].sum()\n",
      "# == Compute the stationary distribution r == #\n",
      "r = mc_compute_stationary(P)\n",
      "ranked_pages = {alphabet[i] : r[i] for i in range(n)}\n",
      "# == Print solution, sorted from highest to lowest rank == #\n",
      "print('Rankings\\n ***')\n",
      "for name, rank in sorted(ranked_pages.items(), key=itemgetter(1), reverse=1):\n",
      "    print('{0}: {1:.4}'.format(name, rank))\n",
      "\n"
     ],
     "language": "python",
     "metadata": {},
     "outputs": [
      {
       "output_type": "stream",
       "stream": "stdout",
       "text": [
        "Rankings\n",
        " ***\n",
        "g: 0.1607\n",
        "j: 0.1594\n",
        "m: 0.1195\n",
        "n: 0.1088\n",
        "k: 0.09106\n",
        "b: 0.08326\n",
        "e: 0.05312\n",
        "i: 0.05312\n",
        "c: 0.04834\n",
        "h: 0.0456\n",
        "l: 0.03202\n",
        "d: 0.03056\n",
        "f: 0.01164\n",
        "a: 0.002911\n"
       ]
      }
     ],
     "prompt_number": 5
    },
    {
     "cell_type": "heading",
     "level": 2,
     "metadata": {},
     "source": [
      "Exercise 3"
     ]
    },
    {
     "cell_type": "markdown",
     "metadata": {},
     "source": [
      "A solution from the [quantecon library](https://github.com/jstac/quant-econ/tree/master/quantecon)  can be found [here](https://github.com/jstac/quant-econ/blob/master/quantecon/tauchen.py)\n"
     ]
    },
    {
     "cell_type": "code",
     "collapsed": false,
     "input": [],
     "language": "python",
     "metadata": {},
     "outputs": [],
     "prompt_number": 5
    }
   ],
   "metadata": {}
  }
 ]
}