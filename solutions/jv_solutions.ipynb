{
 "metadata": {
  "name": "",
  "signature": "sha256:1a3a84aeee8682da680dc6e81b8937c8191c4f4bc07a0d4a2848c9df2094bd61"
 },
 "nbformat": 3,
 "nbformat_minor": 0,
 "worksheets": [
  {
   "cells": [
    {
     "cell_type": "heading",
     "level": 1,
     "metadata": {},
     "source": [
      "quant-econ Solutions: On-the-Job Search"
     ]
    },
    {
     "cell_type": "markdown",
     "metadata": {},
     "source": [
      "Solutions for http://quant-econ.net/jv.html"
     ]
    },
    {
     "cell_type": "code",
     "collapsed": false,
     "input": [
      "%matplotlib inline"
     ],
     "language": "python",
     "metadata": {},
     "outputs": [],
     "prompt_number": 1
    },
    {
     "cell_type": "code",
     "collapsed": false,
     "input": [
      "import numpy as np\n",
      "import matplotlib.pyplot as plt\n",
      "import random\n",
      "from quantecon import JvWorker, compute_fixed_point"
     ],
     "language": "python",
     "metadata": {},
     "outputs": [],
     "prompt_number": 2
    },
    {
     "cell_type": "heading",
     "level": 2,
     "metadata": {},
     "source": [
      "Exercise 1"
     ]
    },
    {
     "cell_type": "markdown",
     "metadata": {},
     "source": [
      "Here\u2019s code to produce the 45 degree diagram"
     ]
    },
    {
     "cell_type": "code",
     "collapsed": false,
     "input": [
      "\n",
      "wp = JvWorker(grid_size=25)\n",
      "G, pi, F = wp.G, wp.pi, wp.F       # Simplify names\n",
      "\n",
      "v_init = wp.x_grid * 0.5\n",
      "print(\"Computing value function\")\n",
      "V = compute_fixed_point(wp.bellman_operator, v_init, max_iter=40, verbose=False)\n",
      "print(\"Computing policy functions\")\n",
      "s_policy, phi_policy = wp.bellman_operator(V, return_policies=True)\n",
      "\n",
      "# Turn the policy function arrays into actual functions\n",
      "s = lambda y: np.interp(y, wp.x_grid, s_policy)\n",
      "phi = lambda y: np.interp(y, wp.x_grid, phi_policy)\n",
      "\n",
      "def h(x, b, U):\n",
      "    return (1 - b) * G(x, phi(x)) + b * max(G(x, phi(x)), U)\n",
      "\n",
      "plot_grid_max, plot_grid_size = 1.2, 100\n",
      "plot_grid = np.linspace(0, plot_grid_max, plot_grid_size)\n",
      "fig, ax = plt.subplots(figsize=(8,8))\n",
      "ax.set_xlim(0, plot_grid_max)\n",
      "ax.set_ylim(0, plot_grid_max)\n",
      "ticks = (0.25, 0.5, 0.75, 1.0)\n",
      "ax.set_xticks(ticks)\n",
      "ax.set_yticks(ticks)\n",
      "ax.set_xlabel(r'$x_t$', fontsize=16)\n",
      "ax.set_ylabel(r'$x_{t+1}$', fontsize=16, rotation='horizontal')\n",
      "\n",
      "ax.plot(plot_grid, plot_grid, 'k--')  # 45 degree line\n",
      "for x in plot_grid:\n",
      "    for i in range(50):\n",
      "        b = 1 if random.uniform(0, 1) < pi(s(x)) else 0\n",
      "        U = wp.F.rvs(1)\n",
      "        y = h(x, b, U)\n",
      "        ax.plot(x, y, 'go', alpha=0.25)\n",
      "\n",
      "plt.show()"
     ],
     "language": "python",
     "metadata": {},
     "outputs": [
      {
       "output_type": "stream",
       "stream": "stdout",
       "text": [
        "Computing value function\n",
        "Computing policy functions"
       ]
      },
      {
       "output_type": "stream",
       "stream": "stdout",
       "text": [
        "\n"
       ]
      },
      {
       "metadata": {},
       "output_type": "display_data",
       "png": "[encoded data removed]",
       "text": [
        "<matplotlib.figure.Figure at 0x10bdb6bd0>"
       ]
      }
     ],
     "prompt_number": 3
    },
    {
     "cell_type": "markdown",
     "metadata": {},
     "source": [
      "Looking at the dynamics, we can see that \n",
      "\n",
      "* If $x_t$ is below about 0.2 the dynamics are random, but $x_{t+1} > x_t$ is very likely\n",
      "* As $x_t$ increases the dynamics become deterministic, and $x_t$ converges to a steady state value close to 1\n",
      "\n",
      "Referring back to the figure here\n",
      "\n",
      "http://quant-econ.net/jv.html#solving-for-policies\n",
      "\n",
      "we see that $x_t \\approx 1$ means that $s_t = s(x_t) \\approx 0$ and $\\phi_t = \\phi(x_t) \\approx 0.6$\n",
      "\n"
     ]
    },
    {
     "cell_type": "heading",
     "level": 2,
     "metadata": {},
     "source": [
      "Exercise 2"
     ]
    },
    {
     "cell_type": "markdown",
     "metadata": {},
     "source": [
      "The figure can be produced as follows"
     ]
    },
    {
     "cell_type": "code",
     "collapsed": false,
     "input": [
      "\n",
      "wp = JvWorker(grid_size=25)\n",
      "\n",
      "def xbar(phi):\n",
      "    return (wp.A * phi**wp.alpha)**(1 / (1 - wp.alpha))\n",
      "\n",
      "phi_grid = np.linspace(0, 1, 100)\n",
      "fig, ax = plt.subplots(figsize=(9, 7))\n",
      "ax.set_xlabel(r'$\\phi$', fontsize=16)\n",
      "ax.plot(phi_grid, [xbar(phi) * (1 - phi) for phi in phi_grid], 'b-', label=r'$w^*(\\phi)$')\n",
      "ax.legend(loc='upper left')\n",
      "\n",
      "plt.show()"
     ],
     "language": "python",
     "metadata": {},
     "outputs": [
      {
       "metadata": {},
       "output_type": "display_data",
       "png": "[encoded data removed]",
       "text": [
        "<matplotlib.figure.Figure at 0x10bdb8f90>"
       ]
      }
     ],
     "prompt_number": 4
    },
    {
     "cell_type": "markdown",
     "metadata": {},
     "source": [
      "Observe that the maximizer is around 0.6\n",
      "\n",
      "This this is similar to the long run value for $\\phi$ obtained\n",
      "in exercise 1\n",
      "\n",
      "Hence the behaviour of the infinitely patent worker is similar to that of the\n",
      "worker with $\\beta = 0.96$\n",
      "\n",
      "This seems reasonable, and helps us confirm that our dynamic programming\n",
      "solutions are probably correct\n"
     ]
    }
   ],
   "metadata": {}
  }
 ]
}