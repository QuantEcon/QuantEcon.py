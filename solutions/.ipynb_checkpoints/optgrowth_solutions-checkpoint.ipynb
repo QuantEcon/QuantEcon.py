{
 "metadata": {
  "name": "",
  "signature": "sha256:71706a7cca57de4d134a131e627c7bbde304b2363e87527314e328b9ade5b50d"
 },
 "nbformat": 3,
 "nbformat_minor": 0,
 "worksheets": [
  {
   "cells": [
    {
     "cell_type": "heading",
     "level": 1,
     "metadata": {},
     "source": [
      "quant-econ Solutions: Infinite Horizon Dynamic Programming"
     ]
    },
    {
     "cell_type": "markdown",
     "metadata": {},
     "source": [
      "Solutions for http://quant-econ.net/dp_intro.html"
     ]
    },
    {
     "cell_type": "code",
     "collapsed": false,
     "input": [
      "%matplotlib inline"
     ],
     "language": "python",
     "metadata": {},
     "outputs": [],
     "prompt_number": 1
    },
    {
     "cell_type": "code",
     "collapsed": false,
     "input": [
      "from __future__ import division  # Omit for Python 3.x\n",
      "import numpy as np\n",
      "import matplotlib.pyplot as plt\n",
      "from quantecon import GrowthModel, gm_bellman_operator, gm_compute_greedy, compute_fixed_point"
     ],
     "language": "python",
     "metadata": {},
     "outputs": [],
     "prompt_number": 2
    },
    {
     "cell_type": "heading",
     "level": 2,
     "metadata": {},
     "source": [
      "Exercise 1"
     ]
    },
    {
     "cell_type": "code",
     "collapsed": false,
     "input": [
      "\n",
      "alpha, beta = 0.65, 0.95\n",
      "gm = GrowthModel() \n",
      "true_sigma = (1 - alpha * beta) * gm.grid**alpha\n",
      "w = 5 * gm.u(gm.grid) - 25  # Initial condition\n",
      "\n",
      "fig, ax = plt.subplots(3, 1, figsize=(8, 10))\n",
      "\n",
      "for i, n in enumerate((2, 4, 6)):\n",
      "    ax[i].set_ylim(0, 1)\n",
      "    ax[i].set_xlim(0, 2)\n",
      "    ax[i].set_yticks((0, 1))\n",
      "    ax[i].set_xticks((0, 2))\n",
      "\n",
      "    v_star = compute_fixed_point(gm_bellman_operator, gm, w, max_iter=n)\n",
      "    sigma = gm_compute_greedy(gm, v_star)\n",
      "\n",
      "    ax[i].plot(gm.grid, sigma, 'b-', lw=2, alpha=0.8, label='approximate optimal policy')\n",
      "    ax[i].plot(gm.grid, true_sigma, 'k-', lw=2, alpha=0.8, label='true optimal policy')\n",
      "    ax[i].legend(loc='upper left')\n",
      "    ax[i].set_title('{} value function iterations'.format(n))\n",
      "\n"
     ],
     "language": "python",
     "metadata": {},
     "outputs": [
      {
       "output_type": "stream",
       "stream": "stdout",
       "text": [
        "Computed iterate 1 with error 4.296600\n",
        "Computed iterate 2 with error 4.080228"
       ]
      },
      {
       "output_type": "stream",
       "stream": "stdout",
       "text": [
        "\n",
        "Computed iterate 1 with error 4.296600"
       ]
      },
      {
       "output_type": "stream",
       "stream": "stdout",
       "text": [
        "\n",
        "Computed iterate 2 with error 4.080228"
       ]
      },
      {
       "output_type": "stream",
       "stream": "stdout",
       "text": [
        "\n",
        "Computed iterate 3 with error 3.875034"
       ]
      },
      {
       "output_type": "stream",
       "stream": "stdout",
       "text": [
        "\n",
        "Computed iterate 4 with error 3.680327"
       ]
      },
      {
       "output_type": "stream",
       "stream": "stdout",
       "text": [
        "\n",
        "Computed iterate 1 with error 4.296600"
       ]
      },
      {
       "output_type": "stream",
       "stream": "stdout",
       "text": [
        "\n",
        "Computed iterate 2 with error 4.080228"
       ]
      },
      {
       "output_type": "stream",
       "stream": "stdout",
       "text": [
        "\n",
        "Computed iterate 3 with error 3.875034"
       ]
      },
      {
       "output_type": "stream",
       "stream": "stdout",
       "text": [
        "\n",
        "Computed iterate 4 with error 3.680327"
       ]
      },
      {
       "output_type": "stream",
       "stream": "stdout",
       "text": [
        "\n",
        "Computed iterate 5 with error 3.495502"
       ]
      },
      {
       "output_type": "stream",
       "stream": "stdout",
       "text": [
        "\n",
        "Computed iterate 6 with error 3.327466"
       ]
      },
      {
       "output_type": "stream",
       "stream": "stdout",
       "text": [
        "\n"
       ]
      },
      {
       "metadata": {},
       "output_type": "display_data",
       "png": "[encoded data removed]",
       "text": [
        "<matplotlib.figure.Figure at 0x30d6fd0>"
       ]
      }
     ],
     "prompt_number": 3
    },
    {
     "cell_type": "heading",
     "level": 2,
     "metadata": {},
     "source": [
      "Exercise 2"
     ]
    },
    {
     "cell_type": "code",
     "collapsed": false,
     "input": [
      "\n",
      "from scipy import interp\n",
      "\n",
      "gm = GrowthModel() \n",
      "w = 5 * gm.u(gm.grid) - 25  # To be used as an initial condition\n",
      "discount_factors = (0.9, 0.94, 0.98)\n",
      "series_length = 25\n",
      "\n",
      "fig, ax = plt.subplots(figsize=(8,5))\n",
      "ax.set_xlabel(\"time\")\n",
      "ax.set_ylabel(\"capital\")\n",
      "\n",
      "for beta in discount_factors:\n",
      "\n",
      "    # Compute the optimal policy given the discount factor\n",
      "    gm.beta = beta\n",
      "    v_star = compute_fixed_point(gm_bellman_operator, gm, w, max_iter=20)\n",
      "    sigma = gm_compute_greedy(gm, v_star)\n",
      "\n",
      "    # Compute the corresponding time series for capital\n",
      "    k = np.empty(series_length)\n",
      "    k[0] = 0.1\n",
      "    sigma_function = lambda x: interp(x, gm.grid, sigma)\n",
      "    for t in range(1, series_length):\n",
      "        k[t] = gm.f(k[t-1]) - sigma_function(k[t-1])\n",
      "    ax.plot(k, 'o-', lw=2, alpha=0.75, label=r'$\\beta = {}$'.format(beta))\n",
      "\n",
      "ax.legend(loc='lower right')\n",
      "\n",
      "\n",
      "\n"
     ],
     "language": "python",
     "metadata": {},
     "outputs": [
      {
       "output_type": "stream",
       "stream": "stdout",
       "text": [
        "Computed iterate 1 with error 5.999396\n",
        "Computed iterate 2 with error 3.791226"
       ]
      },
      {
       "output_type": "stream",
       "stream": "stdout",
       "text": [
        "\n",
        "Computed iterate 3 with error 2.531863"
       ]
      },
      {
       "output_type": "stream",
       "stream": "stdout",
       "text": [
        "\n",
        "Computed iterate 4 with error 1.767013"
       ]
      },
      {
       "output_type": "stream",
       "stream": "stdout",
       "text": [
        "\n",
        "Computed iterate 5 with error 1.303066"
       ]
      },
      {
       "output_type": "stream",
       "stream": "stdout",
       "text": [
        "\n",
        "Computed iterate 6 with error 1.011176"
       ]
      },
      {
       "output_type": "stream",
       "stream": "stdout",
       "text": [
        "\n",
        "Computed iterate 7 with error 0.816201"
       ]
      },
      {
       "output_type": "stream",
       "stream": "stdout",
       "text": [
        "\n",
        "Computed iterate 8 with error 0.689199"
       ]
      },
      {
       "output_type": "stream",
       "stream": "stdout",
       "text": [
        "\n",
        "Computed iterate 9 with error 0.590297"
       ]
      },
      {
       "output_type": "stream",
       "stream": "stdout",
       "text": [
        "\n",
        "Computed iterate 10 with error 0.514201"
       ]
      },
      {
       "output_type": "stream",
       "stream": "stdout",
       "text": [
        "\n",
        "Computed iterate 11 with error 0.454587"
       ]
      },
      {
       "output_type": "stream",
       "stream": "stdout",
       "text": [
        "\n",
        "Computed iterate 12 with error 0.402620"
       ]
      },
      {
       "output_type": "stream",
       "stream": "stdout",
       "text": [
        "\n",
        "Computed iterate 13 with error 0.359115"
       ]
      },
      {
       "output_type": "stream",
       "stream": "stdout",
       "text": [
        "\n",
        "Computed iterate 14 with error 0.321714"
       ]
      },
      {
       "output_type": "stream",
       "stream": "stdout",
       "text": [
        "\n",
        "Computed iterate 15 with error 0.288297"
       ]
      },
      {
       "output_type": "stream",
       "stream": "stdout",
       "text": [
        "\n",
        "Computed iterate 16 with error 0.258360"
       ]
      },
      {
       "output_type": "stream",
       "stream": "stdout",
       "text": [
        "\n",
        "Computed iterate 17 with error 0.232150"
       ]
      },
      {
       "output_type": "stream",
       "stream": "stdout",
       "text": [
        "\n",
        "Computed iterate 18 with error 0.208786"
       ]
      },
      {
       "output_type": "stream",
       "stream": "stdout",
       "text": [
        "\n",
        "Computed iterate 19 with error 0.187838"
       ]
      },
      {
       "output_type": "stream",
       "stream": "stdout",
       "text": [
        "\n",
        "Computed iterate 20 with error 0.169022"
       ]
      },
      {
       "output_type": "stream",
       "stream": "stdout",
       "text": [
        "\n",
        "Computed iterate 1 with error 4.401010"
       ]
      },
      {
       "output_type": "stream",
       "stream": "stdout",
       "text": [
        "\n",
        "Computed iterate 2 with error 3.153136"
       ]
      },
      {
       "output_type": "stream",
       "stream": "stdout",
       "text": [
        "\n",
        "Computed iterate 3 with error 2.962891"
       ]
      },
      {
       "output_type": "stream",
       "stream": "stdout",
       "text": [
        "\n",
        "Computed iterate 4 with error 2.784289"
       ]
      },
      {
       "output_type": "stream",
       "stream": "stdout",
       "text": [
        "\n",
        "Computed iterate 5 with error 2.616550"
       ]
      },
      {
       "output_type": "stream",
       "stream": "stdout",
       "text": [
        "\n",
        "Computed iterate 6 with error 2.458976"
       ]
      },
      {
       "output_type": "stream",
       "stream": "stdout",
       "text": [
        "\n",
        "Computed iterate 7 with error 2.318565"
       ]
      },
      {
       "output_type": "stream",
       "stream": "stdout",
       "text": [
        "\n",
        "Computed iterate 8 with error 2.171183"
       ]
      },
      {
       "output_type": "stream",
       "stream": "stdout",
       "text": [
        "\n",
        "Computed iterate 9 with error 2.042677"
       ]
      },
      {
       "output_type": "stream",
       "stream": "stdout",
       "text": [
        "\n",
        "Computed iterate 10 with error 1.921553"
       ]
      },
      {
       "output_type": "stream",
       "stream": "stdout",
       "text": [
        "\n",
        "Computed iterate 11 with error 1.806962"
       ]
      },
      {
       "output_type": "stream",
       "stream": "stdout",
       "text": [
        "\n",
        "Computed iterate 12 with error 1.698904"
       ]
      },
      {
       "output_type": "stream",
       "stream": "stdout",
       "text": [
        "\n",
        "Computed iterate 13 with error 1.597220"
       ]
      },
      {
       "output_type": "stream",
       "stream": "stdout",
       "text": [
        "\n",
        "Computed iterate 14 with error 1.494743"
       ]
      },
      {
       "output_type": "stream",
       "stream": "stdout",
       "text": [
        "\n",
        "Computed iterate 15 with error 1.405415"
       ]
      },
      {
       "output_type": "stream",
       "stream": "stdout",
       "text": [
        "\n",
        "Computed iterate 16 with error 1.321367"
       ]
      },
      {
       "output_type": "stream",
       "stream": "stdout",
       "text": [
        "\n",
        "Computed iterate 17 with error 1.242295"
       ]
      },
      {
       "output_type": "stream",
       "stream": "stdout",
       "text": [
        "\n",
        "Computed iterate 18 with error 1.167909"
       ]
      },
      {
       "output_type": "stream",
       "stream": "stdout",
       "text": [
        "\n",
        "Computed iterate 19 with error 1.097938"
       ]
      },
      {
       "output_type": "stream",
       "stream": "stdout",
       "text": [
        "\n",
        "Computed iterate 20 with error 1.032124"
       ]
      },
      {
       "output_type": "stream",
       "stream": "stdout",
       "text": [
        "\n",
        "Computed iterate 1 with error 7.118648"
       ]
      },
      {
       "output_type": "stream",
       "stream": "stdout",
       "text": [
        "\n",
        "Computed iterate 2 with error 6.974372"
       ]
      },
      {
       "output_type": "stream",
       "stream": "stdout",
       "text": [
        "\n",
        "Computed iterate 3 with error 6.833300"
       ]
      },
      {
       "output_type": "stream",
       "stream": "stdout",
       "text": [
        "\n",
        "Computed iterate 4 with error 6.702746"
       ]
      },
      {
       "output_type": "stream",
       "stream": "stdout",
       "text": [
        "\n",
        "Computed iterate 5 with error 6.564332"
       ]
      },
      {
       "output_type": "stream",
       "stream": "stdout",
       "text": [
        "\n",
        "Computed iterate 6 with error 6.427286"
       ]
      },
      {
       "output_type": "stream",
       "stream": "stdout",
       "text": [
        "\n",
        "Computed iterate 7 with error 6.299795"
       ]
      },
      {
       "output_type": "stream",
       "stream": "stdout",
       "text": [
        "\n",
        "Computed iterate 8 with error 6.173511"
       ]
      },
      {
       "output_type": "stream",
       "stream": "stdout",
       "text": [
        "\n",
        "Computed iterate 9 with error 6.048887"
       ]
      },
      {
       "output_type": "stream",
       "stream": "stdout",
       "text": [
        "\n",
        "Computed iterate 10 with error 5.924557"
       ]
      },
      {
       "output_type": "stream",
       "stream": "stdout",
       "text": [
        "\n",
        "Computed iterate 11 with error 5.805184"
       ]
      },
      {
       "output_type": "stream",
       "stream": "stdout",
       "text": [
        "\n",
        "Computed iterate 12 with error 5.687164"
       ]
      },
      {
       "output_type": "stream",
       "stream": "stdout",
       "text": [
        "\n",
        "Computed iterate 13 with error 5.570272"
       ]
      },
      {
       "output_type": "stream",
       "stream": "stdout",
       "text": [
        "\n",
        "Computed iterate 14 with error 5.453828"
       ]
      },
      {
       "output_type": "stream",
       "stream": "stdout",
       "text": [
        "\n",
        "Computed iterate 15 with error 5.338835"
       ]
      },
      {
       "output_type": "stream",
       "stream": "stdout",
       "text": [
        "\n",
        "Computed iterate 16 with error 5.225067"
       ]
      },
      {
       "output_type": "stream",
       "stream": "stdout",
       "text": [
        "\n",
        "Computed iterate 17 with error 5.112733"
       ]
      },
      {
       "output_type": "stream",
       "stream": "stdout",
       "text": [
        "\n",
        "Computed iterate 18 with error 5.001816"
       ]
      },
      {
       "output_type": "stream",
       "stream": "stdout",
       "text": [
        "\n",
        "Computed iterate 19 with error 4.892653"
       ]
      },
      {
       "output_type": "stream",
       "stream": "stdout",
       "text": [
        "\n",
        "Computed iterate 20 with error 4.784860"
       ]
      },
      {
       "output_type": "stream",
       "stream": "stdout",
       "text": [
        "\n"
       ]
      },
      {
       "metadata": {},
       "output_type": "pyout",
       "prompt_number": 4,
       "text": [
        "<matplotlib.legend.Legend at 0x3520e10>"
       ]
      },
      {
       "metadata": {},
       "output_type": "display_data",
       "png": "[encoded data removed]",
       "text": [
        "<matplotlib.figure.Figure at 0x30ed1d0>"
       ]
      }
     ],
     "prompt_number": 4
    },
    {
     "cell_type": "code",
     "collapsed": false,
     "input": [],
     "language": "python",
     "metadata": {},
     "outputs": []
    }
   ],
   "metadata": {}
  }
 ]
}