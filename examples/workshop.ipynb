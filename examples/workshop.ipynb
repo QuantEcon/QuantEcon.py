{
 "metadata": {
  "name": "",
  "signature": "sha256:03d597970d894f54df80639c0b48254a87a20595fa3f85ac00daf192cdc37424"
 },
 "nbformat": 3,
 "nbformat_minor": 0,
 "worksheets": [
  {
   "cells": [
    {
     "cell_type": "heading",
     "level": 2,
     "metadata": {},
     "source": [
      "Key links for the Python workshop"
     ]
    },
    {
     "cell_type": "markdown",
     "metadata": {},
     "source": [
      "* quant-econ\n",
      "    * http://quant-econ.net\n",
      "\n",
      "* Getting started with the notebook\n",
      "    * http://quant-econ.net/getting_started.html\n",
      "\n",
      "* Working with the notebook\n",
      "  * http://nbviewer.ipython.org/github/ipython/ipython/blob/2.x/examples/Notebook/User%20Interface.ipynb\n",
      "\n",
      "* NumPy / SciPy examples\n",
      "    * http://nbviewer.ipython.org/github/jstac/quant-econ/blob/master/examples/numpy_scipy_examples.ipynb\n"
     ]
    },
    {
     "cell_type": "code",
     "collapsed": false,
     "input": [],
     "language": "python",
     "metadata": {},
     "outputs": []
    }
   ],
   "metadata": {}
  }
 ]
}